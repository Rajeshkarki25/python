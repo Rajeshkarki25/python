{
 "cells": [
  {
   "cell_type": "code",
   "execution_count": 4,
   "id": "e004f3f2-2148-4596-8ecb-80a5067dff4c",
   "metadata": {},
   "outputs": [
    {
     "name": "stdin",
     "output_type": "stream",
     "text": [
      "enter n= 5\n"
     ]
    },
    {
     "name": "stdout",
     "output_type": "stream",
     "text": [
      "1\n",
      "2\n",
      "6\n",
      "24\n",
      "120\n"
     ]
    }
   ],
   "source": [
    "fac=1;\n",
    "n= int(input(\"enter n=\"));\n",
    "for i in range(1,n+1):\n",
    "    fac = fac * i;\n",
    "    print(fac);"
   ]
  },
  {
   "cell_type": "code",
   "execution_count": 5,
   "id": "d963e80c-29e1-4e4f-901f-697b73c9c133",
   "metadata": {
    "tags": []
   },
   "outputs": [
    {
     "name": "stdout",
     "output_type": "stream",
     "text": [
      "h\n",
      "e\n",
      "l\n",
      "l\n",
      "o\n",
      " \n",
      "w\n",
      "o\n",
      "r\n",
      "l\n",
      "d\n"
     ]
    }
   ],
   "source": [
    "a = \"hello world\"\n",
    "for i in a:\n",
    "    print (i)"
   ]
  },
  {
   "cell_type": "code",
   "execution_count": 6,
   "id": "ab601bbf-11c2-46aa-b0fa-505356906f27",
   "metadata": {
    "tags": []
   },
   "outputs": [
    {
     "name": "stdout",
     "output_type": "stream",
     "text": [
      "hello world"
     ]
    }
   ],
   "source": [
    "a= \"hello world\"\n",
    "for i in a:\n",
    "    print(i, end=\"\")"
   ]
  },
  {
   "cell_type": "code",
   "execution_count": 11,
   "id": "ef6cc353-2ca3-4a87-9106-f05deaf5d315",
   "metadata": {
    "tags": []
   },
   "outputs": [
    {
     "name": "stdout",
     "output_type": "stream",
     "text": [
      "hello world iam python"
     ]
    }
   ],
   "source": [
    "a= \"hello world. iam python.\";\n",
    "for i in a :\n",
    "    if i != \".\":\n",
    "        print(i,end=\"\")"
   ]
  },
  {
   "cell_type": "code",
   "execution_count": 40,
   "id": "83cf8674-5fd9-4be3-ac41-3c0dc306cf52",
   "metadata": {
    "tags": []
   },
   "outputs": [
    {
     "name": "stdout",
     "output_type": "stream",
     "text": [
      "hello world iam python"
     ]
    }
   ],
   "source": [
    "a= \"hello world. iam python_\";\n",
    "for i in a :\n",
    "    if i != \".\" and i !=\"_\":\n",
    "        print(i,end=\"\")"
   ]
  },
  {
   "cell_type": "code",
   "execution_count": 39,
   "id": "2ecaccb5-c059-41c3-b6ff-8c6ee03c0d59",
   "metadata": {
    "tags": []
   },
   "outputs": [],
   "source": [
    "a= \"hello world. iam python.\"\n",
    "for i in a:\n",
    "    if i == \".\":\n",
    "        continue\n",
    "        print(i,end =\"\")"
   ]
  },
  {
   "cell_type": "code",
   "execution_count": 41,
   "id": "83b4b4ae-1095-4538-98b5-f6b0f4cd6c99",
   "metadata": {
    "tags": []
   },
   "outputs": [],
   "source": [
    "#wap to detect if the given is prime or composite\n",
    "#prime 2,3,5,7,11,13,17\n",
    "#composite 4,6,8,10,12\n",
    "#use break statement,for else loop\n",
    "#learn and watch for else loop"
   ]
  },
  {
   "cell_type": "code",
   "execution_count": null,
   "id": "65ccecc1-dc54-4703-a84d-7c67e8cbf264",
   "metadata": {},
   "outputs": [],
   "source": [
    "n= int(input(\"enter n=\"))\n"
   ]
  }
 ],
 "metadata": {
  "kernelspec": {
   "display_name": "Python 3 (ipykernel)",
   "language": "python",
   "name": "python3"
  },
  "language_info": {
   "codemirror_mode": {
    "name": "ipython",
    "version": 3
   },
   "file_extension": ".py",
   "mimetype": "text/x-python",
   "name": "python",
   "nbconvert_exporter": "python",
   "pygments_lexer": "ipython3",
   "version": "3.11.5"
  }
 },
 "nbformat": 4,
 "nbformat_minor": 5
}
