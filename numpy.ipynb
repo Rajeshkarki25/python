{
 "cells": [
  {
   "cell_type": "code",
   "execution_count": 1,
   "id": "5aa98583-ffe1-46e1-aeba-ddc072335ee5",
   "metadata": {
    "tags": []
   },
   "outputs": [],
   "source": [
    "import numpy as np\n"
   ]
  },
  {
   "cell_type": "code",
   "execution_count": 2,
   "id": "2ff0bb05-b0a5-477a-ba6e-39cde23f6069",
   "metadata": {
    "tags": []
   },
   "outputs": [
    {
     "name": "stdout",
     "output_type": "stream",
     "text": [
      "1.24.3\n"
     ]
    }
   ],
   "source": [
    "print(np.__version__)"
   ]
  },
  {
   "cell_type": "code",
   "execution_count": 3,
   "id": "969b873a-eb37-4438-a79d-8ed5eb8bf298",
   "metadata": {
    "tags": []
   },
   "outputs": [
    {
     "name": "stdout",
     "output_type": "stream",
     "text": [
      "[1 2 3 4 5 6 7 8 9]\n",
      "<class 'numpy.ndarray'>\n"
     ]
    }
   ],
   "source": [
    "l = [1,2,3,4,5,6,7,8,9]\n",
    "x = np.array(l)\n",
    "print(x)\n",
    "print(type(x))"
   ]
  },
  {
   "cell_type": "code",
   "execution_count": 4,
   "id": "d464e2ad-f80c-4846-87c5-6c247bebad32",
   "metadata": {
    "tags": []
   },
   "outputs": [
    {
     "name": "stdout",
     "output_type": "stream",
     "text": [
      "[ 6  7  8  9 10 11 12 13 14]\n",
      "[-4 -3 -2 -1  0  1  2  3  4]\n",
      "[0.2 0.4 0.6 0.8 1.  1.2 1.4 1.6 1.8]\n",
      "[ 5 10 15 20 25 30 35 40 45]\n"
     ]
    }
   ],
   "source": [
    "print(x+5)\n",
    "print(x-5)\n",
    "print(x/5)\n",
    "print(x*5)"
   ]
  },
  {
   "cell_type": "code",
   "execution_count": 5,
   "id": "9ae1c489-61a6-429a-ac17-9c1f72349589",
   "metadata": {
    "tags": []
   },
   "outputs": [
    {
     "name": "stdout",
     "output_type": "stream",
     "text": [
      "[ 7  9 11 13 15]\n"
     ]
    }
   ],
   "source": [
    "a = np.array([1,2,3,4,5])\n",
    "b = np.array([6,7,8,9,10])\n",
    "c = a+b\n",
    "print(c)"
   ]
  },
  {
   "cell_type": "code",
   "execution_count": 6,
   "id": "84457f7b-f8b4-4684-9656-b3a2f547b055",
   "metadata": {
    "tags": []
   },
   "outputs": [
    {
     "name": "stdout",
     "output_type": "stream",
     "text": [
      "(5,)\n"
     ]
    }
   ],
   "source": [
    "a = np.array([1,2,3,4,5])\n",
    "print(a.shape)"
   ]
  },
  {
   "cell_type": "code",
   "execution_count": 7,
   "id": "b6fecd76-5b36-44f9-bda5-709501c5085c",
   "metadata": {
    "tags": []
   },
   "outputs": [
    {
     "name": "stdout",
     "output_type": "stream",
     "text": [
      "(2, 5)\n"
     ]
    }
   ],
   "source": [
    "a = np.array([[1,2,3,4,5],\n",
    "              [6,7,8,9,10]])\n",
    "print(a.shape)"
   ]
  },
  {
   "cell_type": "code",
   "execution_count": 12,
   "id": "971f16b2-0493-41a0-ba60-b173dad75041",
   "metadata": {
    "tags": []
   },
   "outputs": [
    {
     "name": "stdout",
     "output_type": "stream",
     "text": [
      "(2, 2, 3)\n"
     ]
    }
   ],
   "source": [
    "a = np.array([[[1,2,3],[4,5,0]],\n",
    "             [[6,7,8],[9,10,0]]])\n",
    "print(a.shape)"
   ]
  },
  {
   "cell_type": "code",
   "execution_count": 13,
   "id": "80a91704-efc3-4349-8dc3-ac57192a90c8",
   "metadata": {
    "tags": []
   },
   "outputs": [
    {
     "data": {
      "text/plain": [
       "array([[[0., 0., 0.],\n",
       "        [0., 0., 0.],\n",
       "        [0., 0., 0.],\n",
       "        [0., 0., 0.]],\n",
       "\n",
       "       [[0., 0., 0.],\n",
       "        [0., 0., 0.],\n",
       "        [0., 0., 0.],\n",
       "        [0., 0., 0.]],\n",
       "\n",
       "       [[0., 0., 0.],\n",
       "        [0., 0., 0.],\n",
       "        [0., 0., 0.],\n",
       "        [0., 0., 0.]]])"
      ]
     },
     "execution_count": 13,
     "metadata": {},
     "output_type": "execute_result"
    }
   ],
   "source": [
    "np.zeros((3,4,3))"
   ]
  },
  {
   "cell_type": "code",
   "execution_count": 14,
   "id": "088bf8c1-e476-43c0-ae21-e2ec15250805",
   "metadata": {
    "tags": []
   },
   "outputs": [
    {
     "data": {
      "text/plain": [
       "array([[1., 0., 0.],\n",
       "       [0., 1., 0.],\n",
       "       [0., 0., 1.]])"
      ]
     },
     "execution_count": 14,
     "metadata": {},
     "output_type": "execute_result"
    }
   ],
   "source": [
    "np.eye(3,3)"
   ]
  },
  {
   "cell_type": "code",
   "execution_count": 16,
   "id": "b2fc74b7-7b0b-49f1-bebf-258a458744c5",
   "metadata": {
    "tags": []
   },
   "outputs": [
    {
     "name": "stdout",
     "output_type": "stream",
     "text": [
      "(2, 3)\n",
      "[[1 2]\n",
      " [3 4]\n",
      " [5 6]]\n",
      "[[1 2 3 4 5 6]]\n",
      "[[1 2]\n",
      " [3 4]\n",
      " [5 6]]\n",
      "[[1]\n",
      " [2]\n",
      " [3]\n",
      " [4]\n",
      " [5]\n",
      " [6]]\n"
     ]
    }
   ],
   "source": [
    "a = np.array([[1,2,3],\n",
    "              [4,5,6]])\n",
    "print(a.shape)\n",
    "print(a.reshape(3,2))\n",
    "print(a.reshape(1,6))\n",
    "print(a.reshape(3,2))\n",
    "print(a.reshape(6,1))"
   ]
  },
  {
   "cell_type": "code",
   "execution_count": 17,
   "id": "7d3c9433-1e25-4f7a-9b66-4cb4c27b876d",
   "metadata": {
    "tags": []
   },
   "outputs": [
    {
     "name": "stdout",
     "output_type": "stream",
     "text": [
      "[[ 2  4  6]\n",
      " [ 8 10 12]]\n"
     ]
    }
   ],
   "source": [
    "a = np.array([[1,2,3],\n",
    "              [4,5,6]])\n",
    "b = np.array([[1,2,3],\n",
    "              [4,5,6]])\n",
    "c = a+b\n",
    "print(c)"
   ]
  },
  {
   "cell_type": "code",
   "execution_count": 19,
   "id": "6083a117-912f-4f51-bfee-850f25cabf9d",
   "metadata": {
    "tags": []
   },
   "outputs": [
    {
     "data": {
      "text/plain": [
       "array([[1, 2, 3, 7, 8, 9],\n",
       "       [4, 5, 6, 0, 4, 6]])"
      ]
     },
     "execution_count": 19,
     "metadata": {},
     "output_type": "execute_result"
    }
   ],
   "source": [
    "a = np.array([[1,2,3],\n",
    "              [4,5,6]])\n",
    "b = np.array([[7,8,9],\n",
    "              [0,4,6]])\n",
    "np.hstack((a,b))"
   ]
  },
  {
   "cell_type": "code",
   "execution_count": 21,
   "id": "96f306fd-59b2-4ec4-b98b-70c4beaa04c9",
   "metadata": {
    "tags": []
   },
   "outputs": [
    {
     "data": {
      "text/plain": [
       "array([[1, 2, 3],\n",
       "       [4, 5, 6],\n",
       "       [1, 2, 3],\n",
       "       [4, 5, 6]])"
      ]
     },
     "execution_count": 21,
     "metadata": {},
     "output_type": "execute_result"
    }
   ],
   "source": [
    "a = np.array([[1,2,3],\n",
    "              [4,5,6]])\n",
    "b = np.array([[1,2,3],\n",
    "              [4,5,6]])\n",
    "np.vstack((a,b))"
   ]
  },
  {
   "cell_type": "code",
   "execution_count": 24,
   "id": "68e8046c-aa19-4077-b343-4ecb090de7a3",
   "metadata": {
    "tags": []
   },
   "outputs": [
    {
     "data": {
      "text/plain": [
       "array([1, 2, 3, 4, 5, 6])"
      ]
     },
     "execution_count": 24,
     "metadata": {},
     "output_type": "execute_result"
    }
   ],
   "source": [
    "a = np.array([1,2,3])\n",
    "b = np.array([4,5,6])\n",
    "np.hstack((a,b))"
   ]
  },
  {
   "cell_type": "code",
   "execution_count": 23,
   "id": "f638929d-18c8-4cbf-964e-c8785957912f",
   "metadata": {
    "tags": []
   },
   "outputs": [
    {
     "data": {
      "text/plain": [
       "array([[1, 2, 3],\n",
       "       [4, 5, 6]])"
      ]
     },
     "execution_count": 23,
     "metadata": {},
     "output_type": "execute_result"
    }
   ],
   "source": [
    "a = np.array([1,2,3])\n",
    "b = np.array([4,5,6])\n",
    "np.vstack((a,b))"
   ]
  },
  {
   "cell_type": "code",
   "execution_count": 25,
   "id": "7b62f06f-bc63-48f7-9b30-f54f83d059fc",
   "metadata": {
    "tags": []
   },
   "outputs": [
    {
     "name": "stdout",
     "output_type": "stream",
     "text": [
      "[[0.59852937 0.57671365]\n",
      " [0.21470475 0.61603828]]\n"
     ]
    }
   ],
   "source": [
    "print(np.random.rand(2,2))"
   ]
  },
  {
   "cell_type": "code",
   "execution_count": 26,
   "id": "42944219-9635-4013-a2ee-02da6590f421",
   "metadata": {
    "tags": []
   },
   "outputs": [
    {
     "name": "stdout",
     "output_type": "stream",
     "text": [
      "[[0 7 1 9 3]\n",
      " [0 6 5 8 1]\n",
      " [6 5 0 2 4]\n",
      " [1 5 7 7 2]\n",
      " [1 7 2 8 2]]\n"
     ]
    }
   ],
   "source": [
    "print(np.random.randint(0,10,size =[5,5]))"
   ]
  },
  {
   "cell_type": "code",
   "execution_count": 27,
   "id": "6321ece9-5401-44a1-afe6-ee87bca4b905",
   "metadata": {
    "tags": []
   },
   "outputs": [
    {
     "name": "stdout",
     "output_type": "stream",
     "text": [
      "0.03174720639873074\n"
     ]
    }
   ],
   "source": [
    "print(np.random.random())"
   ]
  },
  {
   "cell_type": "code",
   "execution_count": 28,
   "id": "26bb3727-b7ef-456d-8e5c-0929fce7cb51",
   "metadata": {
    "tags": []
   },
   "outputs": [
    {
     "name": "stdout",
     "output_type": "stream",
     "text": [
      "[[0.13934896 0.57742595]\n",
      " [0.59945688 0.00704387]]\n"
     ]
    }
   ],
   "source": [
    "print(np.random.random(size = [2,2]))"
   ]
  },
  {
   "cell_type": "code",
   "execution_count": 30,
   "id": "8a09cbf6-afd1-4a6d-8028-dccba3162fed",
   "metadata": {
    "tags": []
   },
   "outputs": [
    {
     "name": "stdout",
     "output_type": "stream",
     "text": [
      "[['u' 'e' 'u' 'e']\n",
      " ['o' 'o' 'e' 'o']\n",
      " ['u' 'i' 'i' 'a']\n",
      " ['e' 'u' 'u' 'o']\n",
      " ['i' 'u' 'a' 'e']\n",
      " ['e' 'e' 'e' 'a']\n",
      " ['o' 'e' 'u' 'a']\n",
      " ['e' 'u' 'i' 'a']\n",
      " ['e' 'i' 'u' 'i']\n",
      " ['i' 'o' 'a' 'o']]\n"
     ]
    }
   ],
   "source": [
    "print(np.random.choice(['a','e','i','o','u'],size =[ 10,4]))"
   ]
  },
  {
   "cell_type": "code",
   "execution_count": 31,
   "id": "20f93ad2-50a2-489b-bf6e-cac04405b10a",
   "metadata": {
    "tags": []
   },
   "outputs": [
    {
     "name": "stdout",
     "output_type": "stream",
     "text": [
      "['e' 'a' 'o' 'a' 'i' 'a' 'a' 'e' 'a' 'e']\n"
     ]
    }
   ],
   "source": [
    "print(np.random.choice(['a','e','i','o','u'],size = 10,p=[0.3,0.1,0.1,0.4,0.1]))"
   ]
  },
  {
   "cell_type": "code",
   "execution_count": 32,
   "id": "0c58acbc-39e4-41b9-b506-ba195d05d8aa",
   "metadata": {
    "tags": []
   },
   "outputs": [
    {
     "data": {
      "text/plain": [
       "array([[ 4,  5,  2,  8,  2],\n",
       "       [ 8,  7, 10,  1, 10],\n",
       "       [ 9,  1,  2,  3,  8],\n",
       "       [ 1,  6,  8,  5,  2],\n",
       "       [ 2,  3,  9,  1,  3]])"
      ]
     },
     "execution_count": 32,
     "metadata": {},
     "output_type": "execute_result"
    }
   ],
   "source": [
    "(np.random.randint(0,10,size =[5,5]))+1"
   ]
  },
  {
   "cell_type": "code",
   "execution_count": null,
   "id": "86634691-6b1d-420e-9ae8-1506055f3799",
   "metadata": {},
   "outputs": [],
   "source": []
  }
 ],
 "metadata": {
  "kernelspec": {
   "display_name": "Python 3 (ipykernel)",
   "language": "python",
   "name": "python3"
  },
  "language_info": {
   "codemirror_mode": {
    "name": "ipython",
    "version": 3
   },
   "file_extension": ".py",
   "mimetype": "text/x-python",
   "name": "python",
   "nbconvert_exporter": "python",
   "pygments_lexer": "ipython3",
   "version": "3.11.5"
  }
 },
 "nbformat": 4,
 "nbformat_minor": 5
}
