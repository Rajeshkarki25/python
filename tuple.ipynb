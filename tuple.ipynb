{
 "cells": [
  {
   "cell_type": "code",
   "execution_count": 1,
   "id": "e7fbe652-b3c2-468a-a911-068c916de6a9",
   "metadata": {
    "tags": []
   },
   "outputs": [],
   "source": [
    "#list\n",
    "# - indexing\n",
    "# -ordered\n",
    "# -multiple or duplicate data\n",
    "# -imutable"
   ]
  },
  {
   "cell_type": "code",
   "execution_count": 2,
   "id": "e5f1930a-e42c-4ada-981e-e0cbe44e2856",
   "metadata": {
    "tags": []
   },
   "outputs": [
    {
     "name": "stdout",
     "output_type": "stream",
     "text": [
      "<class 'tuple'>\n",
      "<class 'tuple'>\n"
     ]
    }
   ],
   "source": [
    "t= (1,2,3,4,5,6,7)\n",
    "k =(\"apple\",\"ball\",\"cat\",\"dog\")\n",
    "print(type(t))\n",
    "print(type(k))"
   ]
  },
  {
   "cell_type": "code",
   "execution_count": 4,
   "id": "e44ed278-ecf6-4cea-b8e4-a34c6d24c43b",
   "metadata": {
    "tags": []
   },
   "outputs": [
    {
     "name": "stdout",
     "output_type": "stream",
     "text": [
      "apple\n",
      "1\n"
     ]
    }
   ],
   "source": [
    "print(k[0])\n",
    "print(t[0])\n",
    "      \n",
    "      "
   ]
  },
  {
   "cell_type": "code",
   "execution_count": 5,
   "id": "4038bca9-c261-44ba-ad2c-f00fdd104c2f",
   "metadata": {
    "tags": []
   },
   "outputs": [
    {
     "name": "stdout",
     "output_type": "stream",
     "text": [
      "(1, 2, 3, 4, 5, 6, 7, 8, 9)\n"
     ]
    }
   ],
   "source": [
    "t= (1,2,3,4,5,6,7)\n",
    "j=(8,9)\n",
    "print(t+j)"
   ]
  },
  {
   "cell_type": "code",
   "execution_count": 6,
   "id": "92cbcf3a-4bb7-44d5-b418-b59e088f812f",
   "metadata": {
    "tags": []
   },
   "outputs": [
    {
     "name": "stdout",
     "output_type": "stream",
     "text": [
      "(1, 2, 3, 4, 1, 2, 3, 4)\n"
     ]
    }
   ],
   "source": [
    "t= (1,2,3,4)\n",
    "print(t*2)"
   ]
  },
  {
   "cell_type": "code",
   "execution_count": 7,
   "id": "26a415c4-56ab-49a8-b8f7-bfa7a186ac3a",
   "metadata": {
    "tags": []
   },
   "outputs": [],
   "source": [
    "# sum () min() max() can do\n"
   ]
  },
  {
   "cell_type": "code",
   "execution_count": 8,
   "id": "588292ec-103c-4af6-9d6e-f38861a1f03f",
   "metadata": {
    "tags": []
   },
   "outputs": [],
   "source": [
    "# no append() insert() extend()\n",
    "#no del remove () pop()\n",
    "#no update()\n",
    "#no sort() reverse() \n",
    "#canot do\n"
   ]
  },
  {
   "cell_type": "code",
   "execution_count": 9,
   "id": "2b64ab04-de7f-4731-a9d6-0a712ef93a1d",
   "metadata": {
    "tags": []
   },
   "outputs": [
    {
     "data": {
      "text/plain": [
       "tuple"
      ]
     },
     "execution_count": 9,
     "metadata": {},
     "output_type": "execute_result"
    }
   ],
   "source": [
    "t= (\"1\",)\n",
    "type(t)"
   ]
  },
  {
   "cell_type": "code",
   "execution_count": 10,
   "id": "49e7cadf-1b18-463e-91f5-e28a41805db7",
   "metadata": {
    "tags": []
   },
   "outputs": [
    {
     "name": "stdout",
     "output_type": "stream",
     "text": [
      "(1, 2, 3, 4, 5, 6, 7)\n"
     ]
    }
   ],
   "source": [
    "a= 1,2,3,4,5,6,7\n",
    "print(a)"
   ]
  },
  {
   "cell_type": "code",
   "execution_count": 11,
   "id": "06f82351-de3f-45a4-9298-3fc666bdecf6",
   "metadata": {
    "tags": []
   },
   "outputs": [
    {
     "name": "stdin",
     "output_type": "stream",
     "text": [
      "enter n =  2\n",
      "enter x = 3\n"
     ]
    },
    {
     "name": "stdout",
     "output_type": "stream",
     "text": [
      "(3,)\n"
     ]
    },
    {
     "name": "stdin",
     "output_type": "stream",
     "text": [
      "enter x = 2\n"
     ]
    },
    {
     "name": "stdout",
     "output_type": "stream",
     "text": [
      "(3, 2)\n"
     ]
    }
   ],
   "source": [
    "t= ()\n",
    "#t = tuple()\n",
    "n= int(input(\"enter n = \"))\n",
    "for i in range(n):\n",
    "    x= int(input(\"enter x =\"))\n",
    "    t= t + (x,)\n",
    "    print(t)"
   ]
  },
  {
   "cell_type": "code",
   "execution_count": 14,
   "id": "867f134b-2e43-43dd-97d5-f89aa75c28a4",
   "metadata": {
    "tags": []
   },
   "outputs": [],
   "source": [
    "#wap to create the following tuple inside tuple\n",
    "#data = (('ram',30,\"kathandu\")\n",
    "       # ('shyam',32,\"banepa\"),\n",
    "       # ('hari',34,\"bhaktapur\"))"
   ]
  },
  {
   "cell_type": "code",
   "execution_count": null,
   "id": "416ca882-7320-4b97-8a3e-fb8fcb98140f",
   "metadata": {},
   "outputs": [],
   "source": []
  }
 ],
 "metadata": {
  "kernelspec": {
   "display_name": "Python 3 (ipykernel)",
   "language": "python",
   "name": "python3"
  },
  "language_info": {
   "codemirror_mode": {
    "name": "ipython",
    "version": 3
   },
   "file_extension": ".py",
   "mimetype": "text/x-python",
   "name": "python",
   "nbconvert_exporter": "python",
   "pygments_lexer": "ipython3",
   "version": "3.11.5"
  }
 },
 "nbformat": 4,
 "nbformat_minor": 5
}
