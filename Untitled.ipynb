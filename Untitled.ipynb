{
 "cells": [
  {
   "cell_type": "code",
   "execution_count": 2,
   "id": "d21b7537-ee8c-48e5-be49-fc5265638dde",
   "metadata": {
    "tags": []
   },
   "outputs": [
    {
     "name": "stdout",
     "output_type": "stream",
     "text": [
      "rajesh\n",
      "25\n",
      "banepa\n"
     ]
    }
   ],
   "source": [
    "#public \n",
    "    class Data:\n",
    "    def __init__(self):\n",
    "        self.name = \"rajesh\"\n",
    "        self.age = 25\n",
    "        self.add = \"banepa\"\n",
    "        \n",
    "obj = Data()\n",
    "print(obj.name)\n",
    "print(obj.age)\n",
    "print(obj.add)"
   ]
  },
  {
   "cell_type": "code",
   "execution_count": 5,
   "id": "1e275f39-da73-49a9-8ee0-77fd1c6c3e44",
   "metadata": {
    "tags": []
   },
   "outputs": [
    {
     "ename": "AttributeError",
     "evalue": "'Info' object has no attribute 'data'",
     "output_type": "error",
     "traceback": [
      "\u001b[1;31m---------------------------------------------------------------------------\u001b[0m",
      "\u001b[1;31mAttributeError\u001b[0m                            Traceback (most recent call last)",
      "Cell \u001b[1;32mIn[5], line 14\u001b[0m\n\u001b[0;32m     11\u001b[0m         \u001b[38;5;28mprint\u001b[39m(\u001b[38;5;124mf\u001b[39m\u001b[38;5;124m\"\u001b[39m\u001b[38;5;124mhello world I am \u001b[39m\u001b[38;5;132;01m{\u001b[39;00m\u001b[38;5;28mself\u001b[39m\u001b[38;5;241m.\u001b[39m_name\u001b[38;5;132;01m}\u001b[39;00m\u001b[38;5;124m. i am from \u001b[39m\u001b[38;5;132;01m{\u001b[39;00m\u001b[38;5;28mself\u001b[39m\u001b[38;5;241m.\u001b[39m_add\u001b[38;5;132;01m}\u001b[39;00m\u001b[38;5;124m.i am \u001b[39m\u001b[38;5;132;01m{\u001b[39;00m\u001b[38;5;28mself\u001b[39m\u001b[38;5;241m.\u001b[39m_age\u001b[38;5;132;01m}\u001b[39;00m\u001b[38;5;124m\"\u001b[39m)\n\u001b[0;32m     13\u001b[0m obj \u001b[38;5;241m=\u001b[39m Info()\n\u001b[1;32m---> 14\u001b[0m obj\u001b[38;5;241m.\u001b[39mdata()\n\u001b[0;32m     15\u001b[0m obj\u001b[38;5;241m.\u001b[39minfo()\n\u001b[0;32m     17\u001b[0m \u001b[38;5;28mprint\u001b[39m(obj\u001b[38;5;241m.\u001b[39m_name)\n",
      "\u001b[1;31mAttributeError\u001b[0m: 'Info' object has no attribute 'data'"
     ]
    }
   ],
   "source": [
    "# protected\n",
    "class Data:\n",
    "    def __init__(self):\n",
    "        self._name = \"rajesh\"\n",
    "        self._age = 25\n",
    "        self._add = \"banepa\"\n",
    "        def data(self):\n",
    "            print(self._name,self._age,self._add)\n",
    "class Info(Data):\n",
    "    def info(self):\n",
    "        print(f\"hello world I am {self._name}. i am from {self._add}.i am {self._age}\")\n",
    "        \n",
    "obj = Info()\n",
    "obj.data()\n",
    "obj.info()\n",
    "        \n",
    "print(obj._name)\n",
    "print(obj._age)\n",
    "print(obj._add)"
   ]
  },
  {
   "cell_type": "code",
   "execution_count": 8,
   "id": "810c6479-c8fe-4a7a-85f7-231e915b8d48",
   "metadata": {
    "tags": []
   },
   "outputs": [
    {
     "ename": "AttributeError",
     "evalue": "'Info' object has no attribute 'data'",
     "output_type": "error",
     "traceback": [
      "\u001b[1;31m---------------------------------------------------------------------------\u001b[0m",
      "\u001b[1;31mAttributeError\u001b[0m                            Traceback (most recent call last)",
      "Cell \u001b[1;32mIn[8], line 13\u001b[0m\n\u001b[0;32m     10\u001b[0m         \u001b[38;5;28mprint\u001b[39m(\u001b[38;5;124mf\u001b[39m\u001b[38;5;124m\"\u001b[39m\u001b[38;5;124mhello world I am \u001b[39m\u001b[38;5;132;01m{\u001b[39;00m\u001b[38;5;28mself\u001b[39m\u001b[38;5;241m.\u001b[39m_name\u001b[38;5;132;01m}\u001b[39;00m\u001b[38;5;124m.i am \u001b[39m\u001b[38;5;132;01m{\u001b[39;00m\u001b[38;5;28mself\u001b[39m\u001b[38;5;241m.\u001b[39m_age\u001b[38;5;132;01m}\u001b[39;00m\u001b[38;5;124m\"\u001b[39m)\n\u001b[0;32m     12\u001b[0m obj \u001b[38;5;241m=\u001b[39mInfo()\n\u001b[1;32m---> 13\u001b[0m obj\u001b[38;5;241m.\u001b[39mdata()\n\u001b[0;32m     14\u001b[0m obj\u001b[38;5;241m.\u001b[39minfo()\n\u001b[0;32m     16\u001b[0m \u001b[38;5;28mprint\u001b[39m(obj\u001b[38;5;241m.\u001b[39m_name)\n",
      "\u001b[1;31mAttributeError\u001b[0m: 'Info' object has no attribute 'data'"
     ]
    }
   ],
   "source": [
    "class Data:\n",
    "    def __init__(self):\n",
    "        self._name = \"rajesh\"      # public\n",
    "        self._age = 25             #private\n",
    "        self.__add = \"banepa\"      # private members\n",
    "        def data(self):\n",
    "            print(self._name,self._age,self.__add)\n",
    "class Info (Data):\n",
    "    def info(self):\n",
    "        print(f\"hello world I am {self._name}.i am {self._age}\")\n",
    "        \n",
    "obj =Info()\n",
    "obj.data()\n",
    "obj.info()\n",
    "        \n",
    "print(obj._name)\n",
    "print(obj._age)"
   ]
  },
  {
   "cell_type": "code",
   "execution_count": null,
   "id": "1d7d1abc-3ffe-46b1-80ac-1ddb9aaaed61",
   "metadata": {},
   "outputs": [],
   "source": []
  }
 ],
 "metadata": {
  "kernelspec": {
   "display_name": "Python 3 (ipykernel)",
   "language": "python",
   "name": "python3"
  },
  "language_info": {
   "codemirror_mode": {
    "name": "ipython",
    "version": 3
   },
   "file_extension": ".py",
   "mimetype": "text/x-python",
   "name": "python",
   "nbconvert_exporter": "python",
   "pygments_lexer": "ipython3",
   "version": "3.11.5"
  }
 },
 "nbformat": 4,
 "nbformat_minor": 5
}
