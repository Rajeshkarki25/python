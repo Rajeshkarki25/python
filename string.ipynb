{
 "cells": [
  {
   "cell_type": "code",
   "execution_count": 1,
   "id": "796cb2d7-0066-41a6-8f16-9469d13dbfcf",
   "metadata": {
    "tags": []
   },
   "outputs": [
    {
     "name": "stdout",
     "output_type": "stream",
     "text": [
      "hello world hello world hello world\n"
     ]
    }
   ],
   "source": [
    "a= \"hello world\"\n",
    "b= 'hello world'\n",
    "c= '''hello world'''\n",
    "print(a,b,c)"
   ]
  },
  {
   "cell_type": "code",
   "execution_count": 2,
   "id": "2d3cd74e-cfae-4493-ace0-999d6c45418c",
   "metadata": {
    "tags": []
   },
   "outputs": [
    {
     "name": "stdout",
     "output_type": "stream",
     "text": [
      "hello world\n",
      "hello world\n",
      "\n"
     ]
    }
   ],
   "source": [
    "a= \"hello world\\n\"\n",
    "print(a*2)"
   ]
  },
  {
   "cell_type": "code",
   "execution_count": 3,
   "id": "7b12aaa8-e125-42b3-b82e-130671103a09",
   "metadata": {
    "tags": []
   },
   "outputs": [
    {
     "name": "stdin",
     "output_type": "stream",
     "text": [
      "enter a = rajesh\n"
     ]
    },
    {
     "name": "stdout",
     "output_type": "stream",
     "text": [
      "rajesh\n"
     ]
    }
   ],
   "source": [
    "a= input(\"enter a =\")\n",
    "print(a)"
   ]
  },
  {
   "cell_type": "code",
   "execution_count": 6,
   "id": "4e764431-d9fa-4f3d-a83d-a7aae02a4c24",
   "metadata": {
    "tags": []
   },
   "outputs": [
    {
     "name": "stdout",
     "output_type": "stream",
     "text": [
      "e\n",
      "hello\n",
      "hlowr\n"
     ]
    }
   ],
   "source": [
    "a= \"hello world\"\n",
    "print(a[1])\n",
    "print(a[0:5])\n",
    "print(a[0:10:2])"
   ]
  },
  {
   "cell_type": "code",
   "execution_count": 8,
   "id": "e36b9cb6-a2b1-4e9e-9bc7-10c7513ec93b",
   "metadata": {
    "tags": []
   },
   "outputs": [
    {
     "name": "stdout",
     "output_type": "stream",
     "text": [
      "hello world i am rajesh.i am frombanepa.i am 24.\n"
     ]
    }
   ],
   "source": [
    "# string format\n",
    "name= \"rajesh\"\n",
    "add= \"banepa\"\n",
    "age= 24\n",
    "\n",
    "info = f\"hello world i am {name}.i am from{add}.i am {age}.\"\n",
    "print(info)\n"
   ]
  },
  {
   "cell_type": "code",
   "execution_count": null,
   "id": "4db08ad1-ad92-4345-900f-551b81f5a278",
   "metadata": {},
   "outputs": [],
   "source": [
    "# reverse print\n",
    "a= \"hello world\"\n",
    "print (a[-1:-12]"
   ]
  },
  {
   "cell_type": "code",
   "execution_count": null,
   "id": "c86199a0-b1ed-4c15-acad-5ea09cfe8ef7",
   "metadata": {},
   "outputs": [],
   "source": [
    "s= \"\"\n",
    "n= int(input(\"enter n= \"))\n",
    "for i in range(n):\n",
    "    name = input(\"enter name= \")\n",
    "    age = int(input(\"enter age= \"))\n",
    "    add= input(\"enter add= \")\n",
    "    info = f\"{name} {age} {add}\\n\"\n",
    "    s= s + info\n",
    "    print(s)"
   ]
  },
  {
   "cell_type": "code",
   "execution_count": null,
   "id": "a8615d37-f1b2-4ace-b3c4-3bb643a31634",
   "metadata": {},
   "outputs": [],
   "source": [
    "# search in string\n",
    "a= \"ram shyam hari sita gita\"\n",
    "name = input ('enter name = ')\n",
    "if \"ram\" in a:\n",
    "    print(\"yes\")\n",
    "    print(a.count(name))\n",
    "    else:\n",
    "        print(\"no\")"
   ]
  },
  {
   "cell_type": "code",
   "execution_count": null,
   "id": "b7c77c84-aa07-4d9b-826c-2bf7ba22601a",
   "metadata": {},
   "outputs": [],
   "source": [
    "a= \"ram shyam hari sita gita\"\n",
    "print(a.lower())\n",
    "print(a.upper())\n",
    "print(a)"
   ]
  },
  {
   "cell_type": "code",
   "execution_count": null,
   "id": "e1717e0a-bc9a-45c3-b7cc-274dbb4d4ed3",
   "metadata": {},
   "outputs": [],
   "source": [
    "a = \"hello world\"\n",
    "l= len(a)\n",
    "i= 0\n",
    "while i<l:\n",
    "    print(a[i], end = \"\")\n",
    "    i= i+1"
   ]
  },
  {
   "cell_type": "code",
   "execution_count": null,
   "id": "41504ae2-d2f4-4724-a0b4-463bfa070865",
   "metadata": {},
   "outputs": [],
   "source": []
  }
 ],
 "metadata": {
  "kernelspec": {
   "display_name": "Python 3 (ipykernel)",
   "language": "python",
   "name": "python3"
  },
  "language_info": {
   "codemirror_mode": {
    "name": "ipython",
    "version": 3
   },
   "file_extension": ".py",
   "mimetype": "text/x-python",
   "name": "python",
   "nbconvert_exporter": "python",
   "pygments_lexer": "ipython3",
   "version": "3.11.5"
  }
 },
 "nbformat": 4,
 "nbformat_minor": 5
}
