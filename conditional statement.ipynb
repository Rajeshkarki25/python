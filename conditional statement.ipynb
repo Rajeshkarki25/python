{
 "cells": [
  {
   "cell_type": "code",
   "execution_count": 1,
   "id": "ee1e4c63-b97f-459c-8fdc-57dd41c056a5",
   "metadata": {
    "tags": []
   },
   "outputs": [],
   "source": [
    "# < > >= <= == !="
   ]
  },
  {
   "cell_type": "code",
   "execution_count": 2,
   "id": "d37abdfd-dcce-45f0-804a-c8f11648abd2",
   "metadata": {
    "tags": []
   },
   "outputs": [
    {
     "name": "stdout",
     "output_type": "stream",
     "text": [
      "False\n"
     ]
    }
   ],
   "source": [
    "a= 10\n",
    "b= 3\n",
    "print(a<b)"
   ]
  },
  {
   "cell_type": "code",
   "execution_count": 3,
   "id": "e28b630b-de4a-4901-85f0-20e9f4820266",
   "metadata": {
    "tags": []
   },
   "outputs": [
    {
     "name": "stdout",
     "output_type": "stream",
     "text": [
      "True\n"
     ]
    }
   ],
   "source": [
    "a= 10\n",
    "b= 3\n",
    "print(a>b)"
   ]
  },
  {
   "cell_type": "code",
   "execution_count": 4,
   "id": "7a8f6975-685c-4e81-a258-6e6a316e8994",
   "metadata": {
    "tags": []
   },
   "outputs": [
    {
     "name": "stdout",
     "output_type": "stream",
     "text": [
      "False\n"
     ]
    }
   ],
   "source": [
    "a= 10\n",
    "b= 3\n",
    "print(a<=b)"
   ]
  },
  {
   "cell_type": "code",
   "execution_count": 5,
   "id": "0d40327a-a724-4737-b223-019be23f07fb",
   "metadata": {
    "tags": []
   },
   "outputs": [
    {
     "name": "stdout",
     "output_type": "stream",
     "text": [
      "True\n"
     ]
    }
   ],
   "source": [
    "a= 10\n",
    "b= 3\n",
    "print(a>=b)"
   ]
  },
  {
   "cell_type": "code",
   "execution_count": 6,
   "id": "0e73bb25-4028-45f3-bad7-e7016bcdb4d0",
   "metadata": {
    "tags": []
   },
   "outputs": [
    {
     "name": "stdout",
     "output_type": "stream",
     "text": [
      "False\n"
     ]
    }
   ],
   "source": [
    "a= 10\n",
    "b= 3\n",
    "print(a==b)"
   ]
  },
  {
   "cell_type": "code",
   "execution_count": 7,
   "id": "cdf839a9-1cf9-4163-92ab-f8f116650623",
   "metadata": {
    "tags": []
   },
   "outputs": [
    {
     "name": "stdout",
     "output_type": "stream",
     "text": [
      "True\n"
     ]
    }
   ],
   "source": [
    "a= 10\n",
    "b= 3\n",
    "print(a!=b)"
   ]
  },
  {
   "cell_type": "code",
   "execution_count": 8,
   "id": "125d26db-a9b5-47b9-9f52-fe3e253f7bb7",
   "metadata": {
    "tags": []
   },
   "outputs": [
    {
     "name": "stdout",
     "output_type": "stream",
     "text": [
      "True\n"
     ]
    }
   ],
   "source": [
    "a = 10\n",
    "print(a%2 ==0)"
   ]
  },
  {
   "cell_type": "code",
   "execution_count": 9,
   "id": "acc7c909-041e-4f1e-8837-3a5046a0a797",
   "metadata": {
    "tags": []
   },
   "outputs": [],
   "source": [
    "# if<condition>:\n",
    "     # <operation>\n",
    "# elif<condition>:\n",
    "      #<operation>\n",
    "# else:\n",
    "#     <operation>"
   ]
  },
  {
   "cell_type": "code",
   "execution_count": 10,
   "id": "07bf0347-7803-420b-97e4-49e164437b55",
   "metadata": {
    "tags": []
   },
   "outputs": [
    {
     "name": "stdin",
     "output_type": "stream",
     "text": [
      "enter a =  34\n"
     ]
    },
    {
     "name": "stdout",
     "output_type": "stream",
     "text": [
      "a is even\n"
     ]
    }
   ],
   "source": [
    "a = int(input(\"enter a = \"))\n",
    "if a%2 ==0:\n",
    "    print(\"a is even\")\n",
    "else:\n",
    "    print(\"a is odd\")"
   ]
  },
  {
   "cell_type": "code",
   "execution_count": 12,
   "id": "3a7d269c-69f2-4d0a-878c-78c0942a06aa",
   "metadata": {
    "tags": []
   },
   "outputs": [
    {
     "name": "stdin",
     "output_type": "stream",
     "text": [
      "enter a =  12\n",
      "enter b =  13\n"
     ]
    },
    {
     "name": "stdout",
     "output_type": "stream",
     "text": [
      "b is grater\n"
     ]
    }
   ],
   "source": [
    "a = int(input(\"enter a = \"))\n",
    "b = int(input(\"enter b = \"))\n",
    "if a>b:\n",
    "    print(a is greater)\n",
    "elif a<b:\n",
    "    print (\"b is grater\")\n",
    "else:\n",
    "           print(\"both are equal\")"
   ]
  },
  {
   "cell_type": "code",
   "execution_count": 14,
   "id": "5383a603-0992-4bee-bebb-306839413584",
   "metadata": {
    "tags": []
   },
   "outputs": [
    {
     "name": "stdin",
     "output_type": "stream",
     "text": [
      "enter physics =  80\n",
      "enter chemistry =  76\n",
      "enter math =  56\n",
      "enter english =  45\n",
      "enter neppali =  90\n"
     ]
    },
    {
     "name": "stdout",
     "output_type": "stream",
     "text": [
      "total =  347.0\n",
      "per =  69.4\n",
      "grade =  B\n"
     ]
    }
   ],
   "source": [
    "physics = float(input(\"enter physics = \"))\n",
    "chemistry = float(input(\"enter chemistry = \"))\n",
    "math = float(input(\"enter math = \"))\n",
    "english = float(input(\"enter english = \"))\n",
    "nepali = float(input(\"enter neppali = \"))\n",
    "total = physics + chemistry + math + english + nepali\n",
    "per = total/5\n",
    "if per>= 80:\n",
    "    grade = 'A'\n",
    "elif per>=60:\n",
    "    grade = 'B'\n",
    "elif per >=45:\n",
    "    grade = 'C'\n",
    "else:\n",
    "    grade = 'F'\n",
    "     \n",
    "print(\"total = \",total)\n",
    "print(\"per = \",per)\n",
    "print(\"grade = \",grade)"
   ]
  },
  {
   "cell_type": "code",
   "execution_count": 15,
   "id": "3e7bbeb7-87b8-4f1c-8ac7-950aed5c6700",
   "metadata": {
    "tags": []
   },
   "outputs": [],
   "source": [
    "# nested if else statement\n",
    "# if<condiition>\n",
    "    #<operation>\n",
    "#    else:\n",
    "        #<operation>"
   ]
  },
  {
   "cell_type": "code",
   "execution_count": 16,
   "id": "dbcad9c9-f706-4772-bd12-d8f075a705e4",
   "metadata": {
    "tags": []
   },
   "outputs": [
    {
     "name": "stdin",
     "output_type": "stream",
     "text": [
      "enter a =  80\n",
      "enter b =  40\n",
      "enter + - * /  +\n"
     ]
    },
    {
     "name": "stdout",
     "output_type": "stream",
     "text": [
      "120\n"
     ]
    }
   ],
   "source": [
    "a = int(input(\"enter a = \"))\n",
    "b = int(input(\"enter b = \"))\n",
    "o = input(\"enter + - * / \")\n",
    "if o =='+':\n",
    "    print(a+b)\n",
    "elif o =='-':\n",
    "    print(a-b)\n",
    "elif o=='*':\n",
    "    print(a*b)\n",
    "elif o=='/':\n",
    "    print(a/b)\n",
    "else:\n",
    "    print(\"please enter a valid operator\")\n"
   ]
  },
  {
   "cell_type": "code",
   "execution_count": 17,
   "id": "5b57ec96-e139-42b0-b64f-b4f158b7e384",
   "metadata": {
    "tags": []
   },
   "outputs": [
    {
     "name": "stdin",
     "output_type": "stream",
     "text": [
      "enter a =  12\n",
      "enter b =  0\n",
      "enter + - * /  /\n"
     ]
    },
    {
     "name": "stdout",
     "output_type": "stream",
     "text": [
      "b can not be zero\n"
     ]
    }
   ],
   "source": [
    "a = int(input(\"enter a = \"))\n",
    "b = int(input(\"enter b = \"))\n",
    "o = input(\"enter + - * / \")\n",
    "if o =='+':\n",
    "    print(a+b)\n",
    "elif o =='-':\n",
    "    print(a-b)\n",
    "elif o=='*':\n",
    "    print(a*b)\n",
    "elif o=='/':\n",
    "    if b!=0:\n",
    "        print(a/b)\n",
    "    else:\n",
    "        print(\"b can not be zero\")\n",
    "else:\n",
    "    print(\"please enter a valid operator\")"
   ]
  },
  {
   "cell_type": "code",
   "execution_count": 18,
   "id": "d0fa78ba-4c79-45f3-86c4-90840398f41a",
   "metadata": {
    "tags": []
   },
   "outputs": [],
   "source": [
    "# a = ?\n",
    "# even or odd\n",
    "# +ve or -ve"
   ]
  },
  {
   "cell_type": "code",
   "execution_count": 19,
   "id": "92fc631c-6f87-488c-b417-c230c7a72018",
   "metadata": {
    "tags": []
   },
   "outputs": [
    {
     "name": "stdin",
     "output_type": "stream",
     "text": [
      "enter a =  29\n"
     ]
    },
    {
     "name": "stdout",
     "output_type": "stream",
     "text": [
      "a is +ve and odd\n"
     ]
    }
   ],
   "source": [
    "a = int(input(\"enter a = \"))\n",
    "if a>=0:\n",
    "    if a%2==0:\n",
    "        print(\"a is +ve and even\")\n",
    "    else:\n",
    "        print(\"a is +ve and odd\")\n",
    "else:\n",
    "    if a%2==0:\n",
    "        print(\"a is -ve and even\")\n",
    "    else:\n",
    "        print(\"a is -ve and odd\")"
   ]
  },
  {
   "cell_type": "code",
   "execution_count": 20,
   "id": "b7979cbb-4afb-411c-96c1-2b5394c5ad4e",
   "metadata": {
    "tags": []
   },
   "outputs": [],
   "source": [
    "# and , or ,not\n",
    "# and -> & multification \n",
    "# true and true => true\n",
    "# true and false => false\n",
    "# false and true => false\n",
    "# false and false => false\n",
    "\n",
    "#or -> |\n",
    "# true or true => true\n",
    "# true or false => true\n",
    "# false or true => true\n",
    "# false or false => true"
   ]
  },
  {
   "cell_type": "code",
   "execution_count": 21,
   "id": "fce60127-d9a3-404e-83f3-c45afb67da0f",
   "metadata": {
    "tags": []
   },
   "outputs": [
    {
     "name": "stdout",
     "output_type": "stream",
     "text": [
      "True\n",
      "False\n",
      "False\n",
      "False\n"
     ]
    }
   ],
   "source": [
    "print(True and True)\n",
    "print(True and False)\n",
    "print(False and True)\n",
    "print(False and False)"
   ]
  },
  {
   "cell_type": "code",
   "execution_count": 22,
   "id": "7d55b12f-6fe1-4dd8-a7ae-731299812582",
   "metadata": {
    "tags": []
   },
   "outputs": [
    {
     "name": "stdout",
     "output_type": "stream",
     "text": [
      "True\n",
      "True\n",
      "True\n",
      "False\n"
     ]
    }
   ],
   "source": [
    "print(True or True)\n",
    "print(True or False)\n",
    "print(False or True)\n",
    "print(False or False)"
   ]
  },
  {
   "cell_type": "code",
   "execution_count": 24,
   "id": "e1291a0c-5eb3-4ebd-a78e-a9982f8603ad",
   "metadata": {
    "tags": []
   },
   "outputs": [
    {
     "name": "stdin",
     "output_type": "stream",
     "text": [
      "enter a =  12\n",
      "enter b =  8\n",
      "enter + - * /  /\n"
     ]
    },
    {
     "name": "stdout",
     "output_type": "stream",
     "text": [
      "1.5\n"
     ]
    }
   ],
   "source": [
    "a = int(input(\"enter a = \"))\n",
    "b = int(input(\"enter b = \"))\n",
    "o = input(\"enter + - * / \")\n",
    "if o =='+':\n",
    "    print(a+b)\n",
    "elif o =='-':\n",
    "    print(a-b)\n",
    "elif o=='*':\n",
    "    print(a*b)\n",
    "elif o=='/'and b!=0:\n",
    "        print(a/b)\n",
    "elif o == '/' and b==0:        \n",
    "        print(\"b can not be zero\")\n",
    "else:\n",
    "    print(\"please enter a valid operator\")"
   ]
  },
  {
   "cell_type": "code",
   "execution_count": null,
   "id": "9a653588-4d3b-4be5-87e6-b671230fa8f8",
   "metadata": {},
   "outputs": [],
   "source": [
    "# if<condition>:\n",
    "#    if<condition>:\n",
    "#         <operation>\n",
    "#    elif<condition>\n",
    "#        if<condition>\n",
    "#            <operation>\n",
    " #   else:\n",
    "#        <operation>\n",
    "#else:\n",
    "#    if<condition>:\n",
    "#       <operation>\n"
   ]
  }
 ],
 "metadata": {
  "kernelspec": {
   "display_name": "Python 3 (ipykernel)",
   "language": "python",
   "name": "python3"
  },
  "language_info": {
   "codemirror_mode": {
    "name": "ipython",
    "version": 3
   },
   "file_extension": ".py",
   "mimetype": "text/x-python",
   "name": "python",
   "nbconvert_exporter": "python",
   "pygments_lexer": "ipython3",
   "version": "3.11.5"
  }
 },
 "nbformat": 4,
 "nbformat_minor": 5
}
