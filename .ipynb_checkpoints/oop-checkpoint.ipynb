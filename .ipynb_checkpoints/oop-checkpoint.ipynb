{
 "cells": [
  {
   "cell_type": "code",
   "execution_count": 1,
   "id": "5db8fb35-ef46-4de2-8ff9-76ba4180c5ec",
   "metadata": {
    "tags": []
   },
   "outputs": [],
   "source": [
    "# class <class_name>:\n",
    "#     <methods>\n",
    "# <class_name>()"
   ]
  },
  {
   "cell_type": "code",
   "execution_count": 5,
   "id": "9768107d-08ee-43bb-adaa-e844b9588d15",
   "metadata": {
    "tags": []
   },
   "outputs": [
    {
     "name": "stdout",
     "output_type": "stream",
     "text": [
      "hello world\n"
     ]
    }
   ],
   "source": [
    "class Hello:    # class\n",
    "    def hello(self):     #method\n",
    "        print(\"hello world\")\n",
    "obj = Hello()     # object\n",
    "obj.hello()"
   ]
  },
  {
   "cell_type": "code",
   "execution_count": 6,
   "id": "810211a9-5fe6-4982-9b10-f3110144b441",
   "metadata": {
    "tags": []
   },
   "outputs": [
    {
     "name": "stdout",
     "output_type": "stream",
     "text": [
      "hello world\n"
     ]
    }
   ],
   "source": [
    "class Hello:    # class\n",
    "    @staticmethod  # decorator\n",
    "    def hello():   # method\n",
    "        print(\"hello world\")\n",
    "obj = Hello()    # object\n",
    "obj.hello()"
   ]
  },
  {
   "cell_type": "code",
   "execution_count": 7,
   "id": "a442e8a0-854b-4b58-8579-17cb933f08da",
   "metadata": {
    "tags": []
   },
   "outputs": [
    {
     "name": "stdout",
     "output_type": "stream",
     "text": [
      "200\n",
      "6000\n"
     ]
    }
   ],
   "source": [
    "class cal:\n",
    "    def area (self,l,b):\n",
    "        a = l*b\n",
    "        print(a)\n",
    "    def volume(self,l,b,h):\n",
    "        b= l*b*h\n",
    "        print(b)\n",
    "obj = cal()\n",
    "obj.area(10,20)\n",
    "obj.volume(10,20,30)"
   ]
  },
  {
   "cell_type": "code",
   "execution_count": 18,
   "id": "ca0fabd8-de3a-4bd6-8809-bf3111d2e1e8",
   "metadata": {
    "tags": []
   },
   "outputs": [
    {
     "name": "stdout",
     "output_type": "stream",
     "text": [
      "50\n",
      "100\n"
     ]
    }
   ],
   "source": [
    "class Cal:\n",
    "    def __init__(self,l,b,h):\n",
    "        self.l = l\n",
    "        self.b = b\n",
    "        self.h = h\n",
    "        \n",
    "    def area (self):\n",
    "        a = self.l*self.b\n",
    "        print(a)\n",
    "    def volume(self):\n",
    "        v = self.l*self.b*self.h\n",
    "        print(v)\n",
    "obj = Cal(10,5,2)\n",
    "obj.area()\n",
    "obj.volume()"
   ]
  },
  {
   "cell_type": "code",
   "execution_count": 19,
   "id": "440bff68-c355-45a1-b780-f08d82141c2d",
   "metadata": {
    "tags": []
   },
   "outputs": [
    {
     "name": "stdout",
     "output_type": "stream",
     "text": [
      "10\n",
      "60\n"
     ]
    }
   ],
   "source": [
    "class Area:\n",
    "    def __init__(self,l,b):\n",
    "        self.l = l\n",
    "        self.b = b\n",
    "        \n",
    "    def area (self):\n",
    "        a = self.l*self.b\n",
    "        print(a)\n",
    "class Volume:\n",
    "    def __init__(self,l,b,h):\n",
    "        self.l = l\n",
    "        self.b = b\n",
    "        self.h = h\n",
    "        \n",
    "    def volume (self):\n",
    "        v = self.l*self.b*self.h\n",
    "        print(v)  \n",
    "obj1 = Area(5,2)\n",
    "obj1.area()\n",
    "obj2 = Volume(5,3,4)\n",
    "obj2.volume()\n",
    "        "
   ]
  },
  {
   "cell_type": "code",
   "execution_count": 21,
   "id": "afe5ce0f-3dc6-45c0-bc00-c01216351951",
   "metadata": {
    "tags": []
   },
   "outputs": [
    {
     "name": "stdout",
     "output_type": "stream",
     "text": [
      "hello world iam Rajesh.Iam 25 years old.I live inBanepa\n",
      "Rajesh\n"
     ]
    }
   ],
   "source": [
    "class Info:\n",
    "    def __init__(self,name,age,add):\n",
    "        self.name = name\n",
    "        self.age = age\n",
    "        self.add = add\n",
    "        \n",
    "    def info(self):\n",
    "        print(f\"hello world iam {self.name}.Iam {self.age} years old.I live in{self.add}\")\n",
    "        \n",
    "    def __str__(self):\n",
    "        return self.name\n",
    "obj = Info(\"Rajesh\",25,\"Banepa\")\n",
    "obj.info()\n",
    "print(obj)\n",
    "    "
   ]
  },
  {
   "cell_type": "code",
   "execution_count": null,
   "id": "28c38f29-ad0c-4945-90c2-be7c72e02ae3",
   "metadata": {},
   "outputs": [],
   "source": []
  }
 ],
 "metadata": {
  "kernelspec": {
   "display_name": "Python 3 (ipykernel)",
   "language": "python",
   "name": "python3"
  },
  "language_info": {
   "codemirror_mode": {
    "name": "ipython",
    "version": 3
   },
   "file_extension": ".py",
   "mimetype": "text/x-python",
   "name": "python",
   "nbconvert_exporter": "python",
   "pygments_lexer": "ipython3",
   "version": "3.11.5"
  }
 },
 "nbformat": 4,
 "nbformat_minor": 5
}
