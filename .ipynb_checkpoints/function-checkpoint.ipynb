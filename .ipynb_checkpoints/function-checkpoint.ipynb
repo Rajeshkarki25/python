{
 "cells": [
  {
   "cell_type": "code",
   "execution_count": 1,
   "id": "e406d614-5c03-463d-863f-9de7dca6d2c1",
   "metadata": {
    "tags": []
   },
   "outputs": [],
   "source": [
    "# pre define function\n",
    "#print(),type(),int(),float(),str(),list(),tuple(),dict(),set()\n",
    "#user define function"
   ]
  },
  {
   "cell_type": "code",
   "execution_count": 3,
   "id": "76b5f511-dc16-4ac2-ba1e-6075c1800eb0",
   "metadata": {
    "tags": []
   },
   "outputs": [],
   "source": [
    "#def<function_name():\n",
    "    #operations>\n",
    "    #function_name()"
   ]
  },
  {
   "cell_type": "code",
   "execution_count": 4,
   "id": "5e7322af-97ef-481f-b46c-6acb3cac10b6",
   "metadata": {
    "tags": []
   },
   "outputs": [],
   "source": [
    "def hello():\n",
    "    print(\"hello world\")\n",
    "    hello()"
   ]
  },
  {
   "cell_type": "code",
   "execution_count": 10,
   "id": "d6bc168b-c3e6-4fce-a268-9c3481945c74",
   "metadata": {
    "tags": []
   },
   "outputs": [
    {
     "name": "stdin",
     "output_type": "stream",
     "text": [
      "enter l =  10\n",
      "enter b =  20\n",
      "enter h =  30\n"
     ]
    },
    {
     "name": "stdout",
     "output_type": "stream",
     "text": [
      "6000\n"
     ]
    }
   ],
   "source": [
    "def cal():\n",
    "    l= int(input(\"enter l = \"))   #local variable\n",
    "    b = int(input(\"enter b = \"))\n",
    "    h = int(input(\"enter h = \"))\n",
    "    v= l*b*h\n",
    "    print(v)\n",
    "    \n",
    "cal()"
   ]
  },
  {
   "cell_type": "code",
   "execution_count": 9,
   "id": "6da05a36-5670-499f-b5f2-76d01e37fcdf",
   "metadata": {
    "tags": []
   },
   "outputs": [
    {
     "name": "stdin",
     "output_type": "stream",
     "text": [
      "enter l =  10\n",
      "enter b =  20\n",
      "enter h =  30\n"
     ]
    },
    {
     "name": "stdout",
     "output_type": "stream",
     "text": [
      "6000\n"
     ]
    }
   ],
   "source": [
    " l= int(input(\"enter l = \"))  # global variable\n",
    " b = int(input(\"enter b = \"))\n",
    " h = int(input(\"enter h = \"))\n",
    "    \n",
    "def cal():\n",
    "        v= l*b*h\n",
    "        print(v)\n",
    "cal()\n",
    "        "
   ]
  },
  {
   "cell_type": "code",
   "execution_count": 11,
   "id": "674b52c4-268c-4089-97a9-90d33f710ea6",
   "metadata": {
    "tags": []
   },
   "outputs": [],
   "source": [
    "#function without argument and no return type\n",
    "#function with argument and no return type\n",
    "#function without argument and return type\n",
    "#function with argument and  return type"
   ]
  },
  {
   "cell_type": "code",
   "execution_count": 13,
   "id": "1a5a96b1-9cfc-4f23-b33a-d4aefa4b9b7d",
   "metadata": {
    "tags": []
   },
   "outputs": [
    {
     "name": "stdin",
     "output_type": "stream",
     "text": [
      "enter name =  rajesh\n",
      "enter age =  24\n",
      "enter address =  banepa\n"
     ]
    },
    {
     "name": "stdout",
     "output_type": "stream",
     "text": [
      "hello world i am rajesh.iam from banepa.iam 24\n"
     ]
    }
   ],
   "source": [
    "#function with argument and no return type\n",
    "def info (name,age,add):  # name,age,add -> parameter\n",
    "    print(f\"hello world i am {name}.iam from {add}.iam {age}\")\n",
    "\n",
    "name = input(\"enter name = \")\n",
    "age = int(input(\"enter age = \"))\n",
    "add = input(\"enter address = \")\n",
    "info(name,age,add)   #name,age,add -> argumeent"
   ]
  },
  {
   "cell_type": "code",
   "execution_count": 14,
   "id": "0c78f4a4-2f2b-4f86-a2f4-00003fec551c",
   "metadata": {
    "tags": []
   },
   "outputs": [
    {
     "name": "stdin",
     "output_type": "stream",
     "text": [
      "enter name =  rajesh\n",
      "enter age =  25\n",
      "enter address =  banepa\n"
     ]
    },
    {
     "name": "stdout",
     "output_type": "stream",
     "text": [
      "hello world i am rajesh.iam from banepa.iam 25\n"
     ]
    }
   ],
   "source": [
    "#function with argument and no return type\n",
    "def info (x,y,z):  # name,age,add -> parameter\n",
    "    print(f\"hello world i am {x}.iam from {z}.iam {y}\")\n",
    "\n",
    "name = input(\"enter name = \")\n",
    "age = int(input(\"enter age = \"))\n",
    "add = input(\"enter address = \")\n",
    "info(name,age,add)   #name,age,add -> argumeent"
   ]
  },
  {
   "cell_type": "code",
   "execution_count": 15,
   "id": "14066abd-f121-46d7-bcb9-aaa599997f75",
   "metadata": {
    "tags": []
   },
   "outputs": [
    {
     "name": "stdout",
     "output_type": "stream",
     "text": [
      "c\n",
      "c++\n",
      "java\n",
      "python\n"
     ]
    }
   ],
   "source": [
    "def language(ian = \"python\"):\n",
    "    print(ian)\n",
    "language(\"c\")\n",
    "language(\"c++\")\n",
    "language(\"java\")\n",
    "language()"
   ]
  },
  {
   "cell_type": "code",
   "execution_count": 16,
   "id": "23cc05f8-c99f-4f5b-9fdf-4f6537648776",
   "metadata": {
    "tags": []
   },
   "outputs": [],
   "source": [
    "# return type function"
   ]
  },
  {
   "cell_type": "code",
   "execution_count": 17,
   "id": "c0d3bbdc-63fc-4b54-938c-1a5b1e3c45e1",
   "metadata": {
    "tags": []
   },
   "outputs": [
    {
     "name": "stdout",
     "output_type": "stream",
     "text": [
      "hello world\n"
     ]
    }
   ],
   "source": [
    "def hello():\n",
    "    x = \"hello world\"\n",
    "    return x \n",
    "print(hello())"
   ]
  },
  {
   "cell_type": "code",
   "execution_count": 18,
   "id": "a0a924cb-7110-4fbc-b2d1-91558fe1db9e",
   "metadata": {
    "tags": []
   },
   "outputs": [
    {
     "name": "stdout",
     "output_type": "stream",
     "text": [
      "100\n",
      "200\n"
     ]
    }
   ],
   "source": [
    "def area():\n",
    "    l= 20\n",
    "    b= 5\n",
    "    a= l*b\n",
    "    return a\n",
    "ar = area()\n",
    "print(ar)\n",
    "\n",
    "h= 2\n",
    "v= ar*h\n",
    "print(v)"
   ]
  },
  {
   "cell_type": "code",
   "execution_count": 21,
   "id": "4842f704-07cd-4ca3-a29d-7a4d36d975a6",
   "metadata": {
    "tags": []
   },
   "outputs": [
    {
     "name": "stdout",
     "output_type": "stream",
     "text": [
      "(50, 100)\n",
      "area =  50\n",
      "volume =  100\n"
     ]
    }
   ],
   "source": [
    "#function with argument and  return type\n",
    "def cal(l,b,h):\n",
    "    a= l*b\n",
    "    v= a*h\n",
    "    return a,v\n",
    "z = cal(10,5,2)\n",
    "print(z)\n",
    "area,volume = z\n",
    "print(\"area = \",area)\n",
    "print(\"volume = \", volume)"
   ]
  },
  {
   "cell_type": "code",
   "execution_count": null,
   "id": "219aa17b-c772-4008-aced-46e06eabb5fc",
   "metadata": {},
   "outputs": [],
   "source": []
  }
 ],
 "metadata": {
  "kernelspec": {
   "display_name": "Python 3 (ipykernel)",
   "language": "python",
   "name": "python3"
  },
  "language_info": {
   "codemirror_mode": {
    "name": "ipython",
    "version": 3
   },
   "file_extension": ".py",
   "mimetype": "text/x-python",
   "name": "python",
   "nbconvert_exporter": "python",
   "pygments_lexer": "ipython3",
   "version": "3.11.5"
  }
 },
 "nbformat": 4,
 "nbformat_minor": 5
}
