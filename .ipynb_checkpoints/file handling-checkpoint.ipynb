{
 "cells": [
  {
   "cell_type": "code",
   "execution_count": 1,
   "id": "991bc8df-e176-483c-bc6f-c59f010c22dd",
   "metadata": {
    "tags": []
   },
   "outputs": [],
   "source": [
    "#file = open(<file_name>','<mode>)\n",
    "#file.close"
   ]
  },
  {
   "cell_type": "code",
   "execution_count": 2,
   "id": "ef9a15a5-ecb6-4bcc-886e-72d57b9eba07",
   "metadata": {
    "tags": []
   },
   "outputs": [],
   "source": [
    "#mode \n",
    "#read -> r\n",
    "#create -> x\n",
    "#write ->w\n",
    "#append ->a"
   ]
  },
  {
   "cell_type": "code",
   "execution_count": 3,
   "id": "b25dc87e-2381-4274-b264-e452e5d18732",
   "metadata": {
    "tags": []
   },
   "outputs": [],
   "source": [
    "file = open('data.txt','x')\n",
    "file.close()"
   ]
  },
  {
   "cell_type": "code",
   "execution_count": 4,
   "id": "eb107ff8-b7ff-40f6-8264-ba362b22b95f",
   "metadata": {
    "tags": []
   },
   "outputs": [
    {
     "name": "stdout",
     "output_type": "stream",
     "text": [
      "1. hello world\n",
      "2. hello world\n",
      "3. hello world\n",
      "4. hello world\n",
      "5. hello world\n",
      "6. hello world\n"
     ]
    }
   ],
   "source": [
    "file = open('data.txt','r')\n",
    "d = file.read()\n",
    "print(d)\n",
    "file.close()"
   ]
  },
  {
   "cell_type": "code",
   "execution_count": 5,
   "id": "c7f7feb5-da39-4ba8-8300-dffed9cbafcd",
   "metadata": {
    "tags": []
   },
   "outputs": [
    {
     "data": {
      "text/plain": [
       "['1. hello world',\n",
       " '2. hello world',\n",
       " '3. hello world',\n",
       " '4. hello world',\n",
       " '5. hello world',\n",
       " '6. hello world']"
      ]
     },
     "execution_count": 5,
     "metadata": {},
     "output_type": "execute_result"
    }
   ],
   "source": [
    "new_data = d.split('\\n')\n",
    "new_data"
   ]
  },
  {
   "cell_type": "code",
   "execution_count": 6,
   "id": "9c8e68f4-09ce-4f0a-a7e7-b1496c168640",
   "metadata": {
    "tags": []
   },
   "outputs": [
    {
     "data": {
      "text/plain": [
       "'2. hello world'"
      ]
     },
     "execution_count": 6,
     "metadata": {},
     "output_type": "execute_result"
    }
   ],
   "source": [
    "new_data[1]"
   ]
  },
  {
   "cell_type": "code",
   "execution_count": 7,
   "id": "2a34f625-be36-433a-b8ff-85cd1b881553",
   "metadata": {
    "tags": []
   },
   "outputs": [],
   "source": [
    "file = open('data1.txt','w')\n",
    "file.write(\"hello world\")\n",
    "file.close()"
   ]
  },
  {
   "cell_type": "code",
   "execution_count": 8,
   "id": "b7a77cee-a34e-4bd2-ab9f-07b051789dc2",
   "metadata": {
    "tags": []
   },
   "outputs": [
    {
     "name": "stdin",
     "output_type": "stream",
     "text": [
      "enter n =  1\n",
      "enter name =  rajesh\n",
      "enter price =  12.3\n",
      "enter qty =  12\n"
     ]
    },
    {
     "name": "stdout",
     "output_type": "stream",
     "text": [
      "rajesh 12.3 12.0 147.60000000000002\n",
      "\n",
      "147.60000000000002\n"
     ]
    }
   ],
   "source": [
    "#writting on text file\n",
    "bill =\"\"\n",
    "all_total = 0\n",
    "n= int(input(\"enter n = \"))\n",
    "for i in range (n):\n",
    "    name = input(\"enter name = \")\n",
    "    price = float(input(\"enter price = \"))\n",
    "    qty = float(input(\"enter qty = \"))\n",
    "    total = price*qty\n",
    "    bill = bill + f\"{name} {price} {qty} {total}\\n\"\n",
    "    all_total = all_total + total\n",
    "print(bill)\n",
    "print(all_total)\n",
    "\n",
    "file = open ('bill.txt','a')\n",
    "file.write(bill)\n",
    "file.close()"
   ]
  },
  {
   "cell_type": "code",
   "execution_count": 11,
   "id": "99266238-9f96-4f29-b5a9-dd4a3104e327",
   "metadata": {
    "tags": []
   },
   "outputs": [
    {
     "name": "stdin",
     "output_type": "stream",
     "text": [
      "enter n =  2\n",
      "enter name =  rajesh\n",
      "enter price =  100\n",
      "enter qty =  10\n",
      "enter name =  hari\n",
      "enter price =  100\n",
      "enter qty =  20\n"
     ]
    },
    {
     "name": "stdout",
     "output_type": "stream",
     "text": [
      "rajesh ,100.0, 10.0, 1000.0\n",
      "hari ,100.0, 20.0, 2000.0\n",
      "\n",
      "3000.0\n"
     ]
    }
   ],
   "source": [
    "# on csv file\n",
    "bill =\"\"\n",
    "all_total = 0\n",
    "n= int(input(\"enter n = \"))\n",
    "for i in range (n):\n",
    "    name = input(\"enter name = \")\n",
    "    price = float(input(\"enter price = \"))\n",
    "    qty = float(input(\"enter qty = \"))\n",
    "    total = price*qty\n",
    "    bill = bill + f\"{name} ,{price}, {qty}, {total}\\n\"\n",
    "    all_total = all_total + total\n",
    "print(bill)\n",
    "print(all_total)\n",
    "\n",
    "file = open ('bill.csv','w')\n",
    "file.write('name,price,quantity,total\\n')\n",
    "file.write(bill)\n",
    "file.close()"
   ]
  },
  {
   "cell_type": "code",
   "execution_count": 10,
   "id": "a1c30aad-4e15-4cff-8e55-358958373581",
   "metadata": {
    "tags": []
   },
   "outputs": [
    {
     "data": {
      "text/plain": [
       "'C:\\\\Users\\\\user'"
      ]
     },
     "execution_count": 10,
     "metadata": {},
     "output_type": "execute_result"
    }
   ],
   "source": [
    "pwd"
   ]
  },
  {
   "cell_type": "code",
   "execution_count": 12,
   "id": "43d87946-7cf1-4fc5-848b-7410b842da90",
   "metadata": {},
   "outputs": [],
   "source": [
    "#marks = \"\"\n",
    "#all_total=0\n",
    "#n = int(input(\"enter n = \"))\n",
    "#for i in ramge (n):\n",
    " #   name = input(\"enter name = \")\n",
    "  #  subject = input(\"enter subject = \")\n",
    "   # mark = int(input(\"enter mark = \"))\n",
    "   # if "
   ]
  },
  {
   "cell_type": "code",
   "execution_count": 14,
   "id": "cba8d9ab-7278-471a-95e7-36bdb39bf51c",
   "metadata": {
    "tags": []
   },
   "outputs": [
    {
     "name": "stdout",
     "output_type": "stream",
     "text": [
      "['name,price,quantity,total', 'rajesh ,100.0, 10.0, 1000.0', 'hari ,100.0, 20.0, 2000.0', '']\n"
     ]
    }
   ],
   "source": [
    "file = open('bill.csv','r')\n",
    "d = file.read()\n",
    "data = d.split('\\n')\n",
    "print(data)\n",
    "file.close()"
   ]
  },
  {
   "cell_type": "code",
   "execution_count": 15,
   "id": "5681b85b-e897-47fa-b47b-6f9a0cbe8dff",
   "metadata": {
    "tags": []
   },
   "outputs": [
    {
     "data": {
      "text/plain": [
       "[['name', 'price', 'quantity', 'total'],\n",
       " ['rajesh ', '100.0', ' 10.0', ' 1000.0'],\n",
       " ['hari ', '100.0', ' 20.0', ' 2000.0']]"
      ]
     },
     "execution_count": 15,
     "metadata": {},
     "output_type": "execute_result"
    }
   ],
   "source": [
    "new_data = []\n",
    "for i in data[:-1]:\n",
    "    new_data.append(i.split(','))\n",
    "new_data    "
   ]
  },
  {
   "cell_type": "code",
   "execution_count": null,
   "id": "a1bbdfbe-139a-45b6-828f-68017c682d00",
   "metadata": {},
   "outputs": [],
   "source": []
  }
 ],
 "metadata": {
  "kernelspec": {
   "display_name": "Python 3 (ipykernel)",
   "language": "python",
   "name": "python3"
  },
  "language_info": {
   "codemirror_mode": {
    "name": "ipython",
    "version": 3
   },
   "file_extension": ".py",
   "mimetype": "text/x-python",
   "name": "python",
   "nbconvert_exporter": "python",
   "pygments_lexer": "ipython3",
   "version": "3.11.5"
  }
 },
 "nbformat": 4,
 "nbformat_minor": 5
}
