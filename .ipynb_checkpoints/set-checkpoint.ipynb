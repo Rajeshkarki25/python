{
 "cells": [
  {
   "cell_type": "code",
   "execution_count": 1,
   "id": "13088bfb-c665-4a0e-8f16-556662bcce34",
   "metadata": {
    "tags": []
   },
   "outputs": [],
   "source": [
    "# set \n",
    "# -no indexing\n",
    "# -unordered\n",
    "# -multipl and but no dublicate data\n",
    "# -mutable"
   ]
  },
  {
   "cell_type": "code",
   "execution_count": 2,
   "id": "5b3a1bc3-40c2-40e7-a273-ff1190120e06",
   "metadata": {
    "tags": []
   },
   "outputs": [],
   "source": [
    "s= set()"
   ]
  },
  {
   "cell_type": "code",
   "execution_count": 3,
   "id": "e7720c0b-48fb-4ffa-a0f0-52738cf4cb1e",
   "metadata": {
    "tags": []
   },
   "outputs": [
    {
     "name": "stdout",
     "output_type": "stream",
     "text": [
      "{'apple', 'dog', 'cat', 'ball'}\n"
     ]
    }
   ],
   "source": [
    "s= {\"apple\",\"ball\",\"cat\",\"dog\"}\n",
    "print(s)"
   ]
  },
  {
   "cell_type": "code",
   "execution_count": 4,
   "id": "be469998-c132-4cc0-a178-cedf70f0bb47",
   "metadata": {
    "tags": []
   },
   "outputs": [
    {
     "name": "stdout",
     "output_type": "stream",
     "text": [
      "<class 'set'>\n"
     ]
    }
   ],
   "source": [
    "s= {\"apple\",\"ball\",\"cat\",\"dog\"}\n",
    "print(type(s))"
   ]
  },
  {
   "cell_type": "code",
   "execution_count": 5,
   "id": "3e34e1a7-cf02-4871-9d50-2615bcb43038",
   "metadata": {
    "tags": []
   },
   "outputs": [
    {
     "name": "stdout",
     "output_type": "stream",
     "text": [
      "{'apple', 'ball'}\n"
     ]
    }
   ],
   "source": [
    "# add\n",
    "s = set()\n",
    "s.add(\"apple\")\n",
    "s.add(\"ball\")\n",
    "print(s)"
   ]
  },
  {
   "cell_type": "code",
   "execution_count": 7,
   "id": "e6660621-a6ac-42eb-8907-e5bee3de8cd5",
   "metadata": {
    "tags": []
   },
   "outputs": [
    {
     "name": "stdout",
     "output_type": "stream",
     "text": [
      "apple\n",
      "dog\n",
      "cat\n",
      "ball\n"
     ]
    }
   ],
   "source": [
    "s= {\"apple\",\"ball\",\"cat\",\"dog\"}\n",
    "for i in s:\n",
    "    print(i)"
   ]
  },
  {
   "cell_type": "code",
   "execution_count": 8,
   "id": "855d5b38-ed04-4803-99e1-ff7d101655c3",
   "metadata": {
    "tags": []
   },
   "outputs": [
    {
     "name": "stdout",
     "output_type": "stream",
     "text": [
      "{'apple', 'dog', 'cat'}\n"
     ]
    }
   ],
   "source": [
    "s= {\"apple\",\"ball\",\"cat\",\"dog\"}\n",
    "s.remove(\"ball\")\n",
    "print(s)"
   ]
  },
  {
   "cell_type": "code",
   "execution_count": 9,
   "id": "31bd4a3c-6966-44f0-b913-0536a9f454ee",
   "metadata": {
    "tags": []
   },
   "outputs": [
    {
     "name": "stdout",
     "output_type": "stream",
     "text": [
      "{1, 2, 3, 4, 5, 6}\n"
     ]
    }
   ],
   "source": [
    "a ={1,2,3}\n",
    "b={4,5,6}\n",
    "a.update(b)\n",
    "print (a)"
   ]
  },
  {
   "cell_type": "code",
   "execution_count": 10,
   "id": "2b4a51f4-b609-4f83-b6f1-40c9cc385db7",
   "metadata": {
    "tags": []
   },
   "outputs": [],
   "source": [
    "# no list inside set\n",
    "# no dict inside set\n",
    "# no set inside set"
   ]
  },
  {
   "cell_type": "code",
   "execution_count": 11,
   "id": "13b7fb87-dd40-4f9d-ab44-59254ddf47e0",
   "metadata": {
    "tags": []
   },
   "outputs": [
    {
     "name": "stdout",
     "output_type": "stream",
     "text": [
      "{1: {'apple', 'ant'}, 2: {'banana', 'ball'}}\n"
     ]
    }
   ],
   "source": [
    "d = {1:{\"apple\",\"ant\"},\n",
    "     2:{\"ball\",\"banana\"}}\n",
    "print(d)"
   ]
  },
  {
   "cell_type": "code",
   "execution_count": 12,
   "id": "f3ac6329-6e64-413f-bf41-5bc9759ee942",
   "metadata": {
    "tags": []
   },
   "outputs": [
    {
     "name": "stdout",
     "output_type": "stream",
     "text": [
      "{'hari', 'shyam'}\n"
     ]
    }
   ],
   "source": [
    "# set in math\n",
    "apple = {\"ram\",\"shyam\",\"hari\",\"nikesh\",\"mike\",\"jhon\",\"steave\"}\n",
    "ms = {\"bill\",\"william\",\"sabin\",\"saroj\",\"subhod\",\"shyam\",\"hari\"}\n",
    "i= apple.intersection(ms)\n",
    "print(i)"
   ]
  },
  {
   "cell_type": "code",
   "execution_count": 13,
   "id": "1b741181-e96f-49a3-8785-d0834ede4cd0",
   "metadata": {
    "tags": []
   },
   "outputs": [
    {
     "name": "stdout",
     "output_type": "stream",
     "text": [
      "{'william', 'ram', 'saroj', 'nikesh', 'sabin', 'hari', 'mike', 'bill', 'steave', 'shyam', 'subhod', 'jhon'}\n"
     ]
    }
   ],
   "source": [
    "un= ms.union(apple)\n",
    "print(un)"
   ]
  },
  {
   "cell_type": "code",
   "execution_count": 16,
   "id": "533eccf0-b010-47ed-be7d-180117984f67",
   "metadata": {
    "tags": []
   },
   "outputs": [
    {
     "name": "stdout",
     "output_type": "stream",
     "text": [
      "{'ram', 'nikesh', 'mike', 'steave', 'jhon'}\n"
     ]
    }
   ],
   "source": [
    "df1= apple-ms    # only at apple\n",
    "print(df1)"
   ]
  },
  {
   "cell_type": "code",
   "execution_count": 17,
   "id": "9eab7904-fd5c-49b5-b4f8-b9c3848f0200",
   "metadata": {
    "tags": []
   },
   "outputs": [
    {
     "name": "stdout",
     "output_type": "stream",
     "text": [
      "{'william', 'saroj', 'sabin', 'bill', 'subhod'}\n"
     ]
    }
   ],
   "source": [
    "df2 = ms-apple    # only at ms\n",
    "print (df2)"
   ]
  },
  {
   "cell_type": "code",
   "execution_count": null,
   "id": "17b26ad7-8dd1-4d3c-9d07-501ee79aab08",
   "metadata": {},
   "outputs": [],
   "source": []
  }
 ],
 "metadata": {
  "kernelspec": {
   "display_name": "Python 3 (ipykernel)",
   "language": "python",
   "name": "python3"
  },
  "language_info": {
   "codemirror_mode": {
    "name": "ipython",
    "version": 3
   },
   "file_extension": ".py",
   "mimetype": "text/x-python",
   "name": "python",
   "nbconvert_exporter": "python",
   "pygments_lexer": "ipython3",
   "version": "3.11.5"
  }
 },
 "nbformat": 4,
 "nbformat_minor": 5
}
