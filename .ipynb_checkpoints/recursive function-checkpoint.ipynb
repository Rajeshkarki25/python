{
 "cells": [
  {
   "cell_type": "code",
   "execution_count": 2,
   "id": "8c3e90a1-0eab-40e2-ae7d-bc5aee0a936f",
   "metadata": {
    "tags": []
   },
   "outputs": [],
   "source": [
    "# recursive function\n",
    "def hello():\n",
    "    print(\"hello world\")\n",
    "    hello()\n",
    "hello() \n"
   ]
  },
  {
   "cell_type": "code",
   "execution_count": 3,
   "id": "6d80115b-9bcf-45bb-8ad0-341cbb8df8b7",
   "metadata": {
    "tags": []
   },
   "outputs": [
    {
     "name": "stdout",
     "output_type": "stream",
     "text": [
      "hello world\n"
     ]
    },
    {
     "name": "stdin",
     "output_type": "stream",
     "text": [
      "enter y for more print =  y\n"
     ]
    },
    {
     "name": "stdout",
     "output_type": "stream",
     "text": [
      "hello world\n"
     ]
    },
    {
     "name": "stdin",
     "output_type": "stream",
     "text": [
      "enter y for more print =  y\n"
     ]
    },
    {
     "name": "stdout",
     "output_type": "stream",
     "text": [
      "hello world\n"
     ]
    },
    {
     "name": "stdin",
     "output_type": "stream",
     "text": [
      "enter y for more print =  f\n"
     ]
    }
   ],
   "source": [
    "def hello():\n",
    "    print(\"hello world\")\n",
    "    x = input(\"enter y for more print = \")\n",
    "    if x == 'y':\n",
    "        hello()\n",
    "hello()    "
   ]
  },
  {
   "cell_type": "code",
   "execution_count": 4,
   "id": "d7d51582-23b4-42ff-8381-61de49cf23d7",
   "metadata": {
    "tags": []
   },
   "outputs": [
    {
     "name": "stdin",
     "output_type": "stream",
     "text": [
      "enter the x =  10\n",
      "enter y for more entery =  y\n",
      "enter the x =  23\n",
      "enter y for more entery =  y\n",
      "enter the x =  20\n",
      "enter y for more entery =  b\n"
     ]
    },
    {
     "name": "stdout",
     "output_type": "stream",
     "text": [
      "53\n"
     ]
    }
   ],
   "source": [
    "s = 0\n",
    "def cal():\n",
    "    global s\n",
    "    x= int(input(\"enter the x = \"))\n",
    "    s= s+x\n",
    "    z= input (\"enter y for more entery = \")\n",
    "    if z =='y':\n",
    "          cal()\n",
    "cal() \n",
    "print(s)"
   ]
  },
  {
   "cell_type": "code",
   "execution_count": 5,
   "id": "2be18dcb-098d-467e-8201-e2307598f01d",
   "metadata": {
    "tags": []
   },
   "outputs": [
    {
     "name": "stdout",
     "output_type": "stream",
     "text": [
      "3.141592653589793\n",
      "2.718281828459045\n"
     ]
    }
   ],
   "source": [
    "# math function\n",
    "import math as m \n",
    "print(m.pi)\n",
    "print(m.e)\n"
   ]
  },
  {
   "cell_type": "code",
   "execution_count": 6,
   "id": "1b4bdc16-86a0-4780-af7c-574f82142bcf",
   "metadata": {
    "tags": []
   },
   "outputs": [
    {
     "data": {
      "text/plain": [
       "1.0"
      ]
     },
     "execution_count": 6,
     "metadata": {},
     "output_type": "execute_result"
    }
   ],
   "source": [
    "m.sin(m.pi/2)"
   ]
  },
  {
   "cell_type": "code",
   "execution_count": 8,
   "id": "65179d11-41e8-41df-abd0-d45a75729118",
   "metadata": {
    "tags": []
   },
   "outputs": [
    {
     "data": {
      "text/plain": [
       "6.123233995736766e-17"
      ]
     },
     "execution_count": 8,
     "metadata": {},
     "output_type": "execute_result"
    }
   ],
   "source": [
    "m.cos(m.pi/2)"
   ]
  },
  {
   "cell_type": "code",
   "execution_count": 9,
   "id": "e22264ba-b66f-4603-93ce-72d75d8a5443",
   "metadata": {
    "tags": []
   },
   "outputs": [
    {
     "name": "stdout",
     "output_type": "stream",
     "text": [
      "1.633123935319537e+16\n"
     ]
    }
   ],
   "source": [
    "print(m.tan(m.pi/2))"
   ]
  },
  {
   "cell_type": "code",
   "execution_count": 10,
   "id": "9f12747b-bf21-4666-b4bf-e4f8b0ebd431",
   "metadata": {
    "tags": []
   },
   "outputs": [],
   "source": [
    "# lambda function\n",
    "#lambda<arguments>:<operations>"
   ]
  },
  {
   "cell_type": "code",
   "execution_count": 11,
   "id": "a1743fca-4c92-4623-a586-b7cb13fc15f5",
   "metadata": {
    "tags": []
   },
   "outputs": [
    {
     "name": "stdout",
     "output_type": "stream",
     "text": [
      "25\n"
     ]
    }
   ],
   "source": [
    "x= lambda a:a**2\n",
    "\n",
    "print(x(5))"
   ]
  },
  {
   "cell_type": "code",
   "execution_count": 12,
   "id": "f7fa6b8d-6c44-4b68-a326-9f6b06c2aafa",
   "metadata": {
    "tags": []
   },
   "outputs": [
    {
     "name": "stdout",
     "output_type": "stream",
     "text": [
      "10\n"
     ]
    }
   ],
   "source": [
    "x= lambda l,b:l*b\n",
    "\n",
    "print(x(5,2))"
   ]
  },
  {
   "cell_type": "code",
   "execution_count": 13,
   "id": "4fa8fe13-b6e9-44e9-8e7f-8b8c7734a9ba",
   "metadata": {
    "tags": []
   },
   "outputs": [],
   "source": [
    "# filter() map()"
   ]
  },
  {
   "cell_type": "code",
   "execution_count": 14,
   "id": "c397dae5-197a-4791-9a32-465f2671d5e6",
   "metadata": {
    "tags": []
   },
   "outputs": [
    {
     "data": {
      "text/plain": [
       "[2, 4, 6, 8]"
      ]
     },
     "execution_count": 14,
     "metadata": {},
     "output_type": "execute_result"
    }
   ],
   "source": [
    "# filter()\n",
    "a= [1,2,3,4,5,6,7,8,9]\n",
    "b= list(filter(lambda x : x%2==0,a))\n",
    "b"
   ]
  },
  {
   "cell_type": "code",
   "execution_count": 15,
   "id": "e83a9992-3fdd-4cb9-855b-9b97164766a8",
   "metadata": {
    "tags": []
   },
   "outputs": [
    {
     "data": {
      "text/plain": [
       "['apple', 'ant']"
      ]
     },
     "execution_count": 15,
     "metadata": {},
     "output_type": "execute_result"
    }
   ],
   "source": [
    "# filter()\n",
    "a = [\"apple\",\"ant\",\"ball\",\"banana\",\"cat\"]\n",
    "b= list(filter(lambda x: x[0] == \"a\",a))\n",
    "b"
   ]
  },
  {
   "cell_type": "code",
   "execution_count": 21,
   "id": "d90e65c6-1437-4411-b239-ae443f7d1d4a",
   "metadata": {
    "tags": []
   },
   "outputs": [
    {
     "data": {
      "text/plain": [
       "['apple', 'ant', 'ball', 'banana', 'cat']"
      ]
     },
     "execution_count": 21,
     "metadata": {},
     "output_type": "execute_result"
    }
   ],
   "source": [
    "#map\n",
    "a = [\"Apple\",\"Ant\",\"Ball\",\"Banana\",\"Cat\"]\n",
    "b = list(map( lambda x:x.lower(),a))\n",
    "b"
   ]
  },
  {
   "cell_type": "code",
   "execution_count": 22,
   "id": "64811814-d1b5-451a-a10b-55dcc3597b40",
   "metadata": {
    "tags": []
   },
   "outputs": [
    {
     "data": {
      "text/plain": [
       "[1, 4, 9, 16, 25, 36, 49, 64, 81]"
      ]
     },
     "execution_count": 22,
     "metadata": {},
     "output_type": "execute_result"
    }
   ],
   "source": [
    "a=[1,2,3,4,5,6,7,8,9]\n",
    "b= list(map(lambda x:x**2,a))\n",
    "b"
   ]
  },
  {
   "cell_type": "code",
   "execution_count": 23,
   "id": "7075430f-3bf8-4106-a716-a0c7fd224223",
   "metadata": {
    "tags": []
   },
   "outputs": [
    {
     "data": {
      "text/plain": [
       "[0,\n",
       " 1,\n",
       " 2,\n",
       " 3,\n",
       " 4,\n",
       " 5,\n",
       " 6,\n",
       " 7,\n",
       " 8,\n",
       " 9,\n",
       " 10,\n",
       " 11,\n",
       " 12,\n",
       " 13,\n",
       " 14,\n",
       " 15,\n",
       " 16,\n",
       " 17,\n",
       " 18,\n",
       " 19,\n",
       " 20,\n",
       " 21,\n",
       " 22,\n",
       " 23,\n",
       " 24,\n",
       " 25,\n",
       " 26,\n",
       " 27,\n",
       " 28,\n",
       " 29]"
      ]
     },
     "execution_count": 23,
     "metadata": {},
     "output_type": "execute_result"
    }
   ],
   "source": [
    "a = [i for i in range(30)]\n",
    "a"
   ]
  },
  {
   "cell_type": "code",
   "execution_count": 24,
   "id": "adaf8c75-05d6-470f-959f-cdc1cdabccd8",
   "metadata": {
    "tags": []
   },
   "outputs": [
    {
     "data": {
      "text/plain": [
       "[1,\n",
       " 4,\n",
       " 9,\n",
       " 16,\n",
       " 25,\n",
       " 36,\n",
       " 49,\n",
       " 64,\n",
       " 81,\n",
       " 100,\n",
       " 121,\n",
       " 144,\n",
       " 169,\n",
       " 196,\n",
       " 225,\n",
       " 256,\n",
       " 289,\n",
       " 324,\n",
       " 361,\n",
       " 400]"
      ]
     },
     "execution_count": 24,
     "metadata": {},
     "output_type": "execute_result"
    }
   ],
   "source": [
    "a= [i**2 for i in range (1,21)]\n",
    "a"
   ]
  },
  {
   "cell_type": "code",
   "execution_count": 25,
   "id": "f588a8a1-e174-4378-b998-8a9172202b61",
   "metadata": {
    "tags": []
   },
   "outputs": [
    {
     "name": "stdin",
     "output_type": "stream",
     "text": [
      "enter value =  12\n",
      "enter value =  13\n",
      "enter value =  14\n",
      "enter value =  15\n",
      "enter value =  16\n"
     ]
    },
    {
     "data": {
      "text/plain": [
       "[12, 13, 14, 15, 16]"
      ]
     },
     "execution_count": 25,
     "metadata": {},
     "output_type": "execute_result"
    }
   ],
   "source": [
    "a= [int(input(\"enter value = \")) for i in range(5)]\n",
    "a"
   ]
  },
  {
   "cell_type": "code",
   "execution_count": 27,
   "id": "5e5cb328-fa44-453a-a1cb-e64567f4bb48",
   "metadata": {
    "tags": []
   },
   "outputs": [
    {
     "name": "stdin",
     "output_type": "stream",
     "text": [
      "enter value =  10\n",
      "enter value =  11\n",
      "enter value =  12\n",
      "enter value =  13\n",
      "enter value =  14\n"
     ]
    },
    {
     "data": {
      "text/plain": [
       "[10, 11, 12, 13, 14]"
      ]
     },
     "execution_count": 27,
     "metadata": {},
     "output_type": "execute_result"
    }
   ],
   "source": [
    "a=[int(input(\"enter value = \")) for i in range(5)]\n",
    "a"
   ]
  },
  {
   "cell_type": "code",
   "execution_count": 28,
   "id": "6ac1ff5f-6038-4033-8c58-45d665fc75c4",
   "metadata": {
    "tags": []
   },
   "outputs": [
    {
     "name": "stdin",
     "output_type": "stream",
     "text": [
      "enter name =  rajesh karki\n",
      "enter phone 9861602949\n",
      "enter name =  rajesh\n",
      "enter phone 9808300626\n"
     ]
    },
    {
     "data": {
      "text/plain": [
       "{'rajesh karki': 9861602949, 'rajesh': 9808300626}"
      ]
     },
     "execution_count": 28,
     "metadata": {},
     "output_type": "execute_result"
    }
   ],
   "source": [
    "a= {input(\"enter name = \"):int(input(\"enter phone\"))for i in range(2)}\n",
    "a"
   ]
  },
  {
   "cell_type": "code",
   "execution_count": null,
   "id": "8d49ca71-c563-498b-90a9-dc636bb80324",
   "metadata": {},
   "outputs": [],
   "source": []
  }
 ],
 "metadata": {
  "kernelspec": {
   "display_name": "Python 3 (ipykernel)",
   "language": "python",
   "name": "python3"
  },
  "language_info": {
   "codemirror_mode": {
    "name": "ipython",
    "version": 3
   },
   "file_extension": ".py",
   "mimetype": "text/x-python",
   "name": "python",
   "nbconvert_exporter": "python",
   "pygments_lexer": "ipython3",
   "version": "3.11.5"
  }
 },
 "nbformat": 4,
 "nbformat_minor": 5
}
