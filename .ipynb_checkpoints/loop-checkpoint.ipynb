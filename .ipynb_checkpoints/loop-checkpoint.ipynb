{
 "cells": [
  {
   "cell_type": "code",
   "execution_count": 2,
   "id": "ddc5e18b-f825-4bf7-805c-d9b2f96a9871",
   "metadata": {
    "tags": []
   },
   "outputs": [],
   "source": [
    "# for loop\n",
    "# while loop"
   ]
  },
  {
   "cell_type": "code",
   "execution_count": null,
   "id": "002cc0fd-2296-41b3-9df2-145918a4af52",
   "metadata": {},
   "outputs": [],
   "source": [
    "#range(5)    0,1,2,3,4\n",
    "#range(1,5)   1,2,3,4\n",
    "#range(1,10,2)  1,3,5,7,9"
   ]
  },
  {
   "cell_type": "code",
   "execution_count": 3,
   "id": "395d78d0-b79f-4d36-9f49-166c7bd34636",
   "metadata": {
    "tags": []
   },
   "outputs": [
    {
     "name": "stdout",
     "output_type": "stream",
     "text": [
      "0\n",
      "1\n",
      "2\n",
      "3\n",
      "4\n",
      "5\n",
      "6\n"
     ]
    }
   ],
   "source": [
    "for i in range(7):\n",
    "    print(i)"
   ]
  },
  {
   "cell_type": "code",
   "execution_count": 4,
   "id": "568aea77-5c36-495b-bb05-3ac902102853",
   "metadata": {
    "tags": []
   },
   "outputs": [
    {
     "name": "stdout",
     "output_type": "stream",
     "text": [
      "1\n",
      "2\n",
      "3\n",
      "4\n",
      "5\n",
      "6\n"
     ]
    }
   ],
   "source": [
    "for i in range(1,7):\n",
    "    print(i)"
   ]
  },
  {
   "cell_type": "code",
   "execution_count": 5,
   "id": "084754de-05db-4afb-8a93-a10daadf0079",
   "metadata": {
    "tags": []
   },
   "outputs": [
    {
     "name": "stdout",
     "output_type": "stream",
     "text": [
      "1\n",
      "3\n",
      "5\n"
     ]
    }
   ],
   "source": [
    "for i in range(1,7,2):\n",
    "    print(i)"
   ]
  },
  {
   "cell_type": "code",
   "execution_count": 6,
   "id": "2bb10945-13e2-475c-9bb7-23f3114ee080",
   "metadata": {
    "tags": []
   },
   "outputs": [
    {
     "name": "stdout",
     "output_type": "stream",
     "text": [
      "0 hello world\n",
      "1 hello world\n",
      "2 hello world\n",
      "3 hello world\n",
      "4 hello world\n",
      "5 hello world\n",
      "6 hello world\n"
     ]
    }
   ],
   "source": [
    "for i in range(7):\n",
    "    print(i,\"hello world\")"
   ]
  },
  {
   "cell_type": "code",
   "execution_count": 9,
   "id": "8b6c1bc1-fb95-46df-80bc-ca6d8228405d",
   "metadata": {
    "tags": []
   },
   "outputs": [
    {
     "name": "stdin",
     "output_type": "stream",
     "text": [
      "enter n =  7\n"
     ]
    },
    {
     "name": "stdout",
     "output_type": "stream",
     "text": [
      "7 * 1 = 7\n",
      "7 * 2 = 14\n",
      "7 * 3 = 21\n",
      "7 * 4 = 28\n",
      "7 * 5 = 35\n",
      "7 * 6 = 42\n",
      "7 * 7 = 49\n",
      "7 * 8 = 56\n",
      "7 * 9 = 63\n",
      "7 * 10 = 70\n"
     ]
    }
   ],
   "source": [
    "n = int(input(\"enter n = \"))\n",
    "for i in range(1,11):\n",
    "    print(n,\"*\",i,\"=\",n*i)"
   ]
  },
  {
   "cell_type": "code",
   "execution_count": 10,
   "id": "78e89d0c-7277-4f78-9a12-ffa624dc0eda",
   "metadata": {
    "tags": []
   },
   "outputs": [
    {
     "name": "stdin",
     "output_type": "stream",
     "text": [
      "enter n =  2\n",
      "enter x =  56\n",
      "enter x =  76\n"
     ]
    },
    {
     "name": "stdout",
     "output_type": "stream",
     "text": [
      "132\n"
     ]
    }
   ],
   "source": [
    "s = 0\n",
    "n= int(input(\"enter n = \"))\n",
    "for i in range(n):\n",
    "    x = int(input(\"enter x = \"))\n",
    "    s= s+x\n",
    "print(s)    \n",
    "    "
   ]
  },
  {
   "cell_type": "code",
   "execution_count": 11,
   "id": "a3f786ba-d848-425c-b04b-9ee9edac5f20",
   "metadata": {
    "tags": []
   },
   "outputs": [
    {
     "name": "stdin",
     "output_type": "stream",
     "text": [
      "enter n =  2\n",
      "enter x =  ram\n",
      "enter x =  shyam\n"
     ]
    },
    {
     "name": "stdout",
     "output_type": "stream",
     "text": [
      "ramshyam\n"
     ]
    }
   ],
   "source": [
    "s = ''\n",
    "n= int(input(\"enter n = \"))\n",
    "for i in range(n):\n",
    "    x = input(\"enter x = \")\n",
    "    s= s+x\n",
    "print(s) "
   ]
  },
  {
   "cell_type": "code",
   "execution_count": 13,
   "id": "dae0dc12-54c9-4555-b9cc-1d55bdbc35dc",
   "metadata": {
    "tags": []
   },
   "outputs": [
    {
     "name": "stdin",
     "output_type": "stream",
     "text": [
      "enter n =  3\n",
      "enter x =  ram \n",
      "enter x =  shyam\n",
      "enter x =  hari\n"
     ]
    },
    {
     "name": "stdout",
     "output_type": "stream",
     "text": [
      "ram \n",
      "shyam\n",
      "hari\n",
      "\n"
     ]
    }
   ],
   "source": [
    "s = ''\n",
    "n= int(input(\"enter n = \"))\n",
    "for i in range(n):\n",
    "    x = input(\"enter x = \")\n",
    "    s= s+x+\"\\n\"\n",
    "print(s) "
   ]
  },
  {
   "cell_type": "code",
   "execution_count": 16,
   "id": "07d763f3-2ef4-46e3-913e-e19006f4f484",
   "metadata": {
    "tags": []
   },
   "outputs": [
    {
     "name": "stdin",
     "output_type": "stream",
     "text": [
      "enter n =  2\n",
      "enter name =  ram\n",
      "enter phone =  987065432\n",
      "enter name =  shyam\n",
      "enter phone =  9876543210\n"
     ]
    },
    {
     "name": "stdout",
     "output_type": "stream",
     "text": [
      "ram 987065432\n",
      "shyam 9876543210\n",
      "\n"
     ]
    }
   ],
   "source": [
    "s = ''\n",
    "n= int(input(\"enter n = \"))\n",
    "for i in range(n):\n",
    "    name = input(\"enter name = \")\n",
    "    phone =input(\"enter phone = \")\n",
    "    s= s + name +\" \" + phone + \"\\n\"\n",
    "print(s) "
   ]
  },
  {
   "cell_type": "code",
   "execution_count": null,
   "id": "2bac76fe-e0ab-4572-9782-db1cc0dc76d2",
   "metadata": {},
   "outputs": [],
   "source": [
    "#name =?\n",
    "# price =?\n",
    "#qty =?\n",
    "#total = price + qty\n",
    "#all_total = ?"
   ]
  },
  {
   "cell_type": "code",
   "execution_count": 23,
   "id": "77a3cc6e-4ee2-47ce-8801-6259b9f1e1fe",
   "metadata": {
    "tags": []
   },
   "outputs": [
    {
     "name": "stdin",
     "output_type": "stream",
     "text": [
      "enter n =  2\n",
      "enter name =  ram\n",
      "enter price = 50\n",
      "enter qty =  30\n",
      "enter name =  shyam\n",
      "enter price = 30\n",
      "enter qty =  50\n"
     ]
    },
    {
     "name": "stdout",
     "output_type": "stream",
     "text": [
      "ram 50.030.0 1500.0\n",
      "shyam 30.050.0 1500.0\n",
      "\n",
      "3000.0\n"
     ]
    }
   ],
   "source": [
    "bill = \"\"\n",
    "all_total = 0\n",
    "n = int (input(\"enter n = \"))\n",
    "for i in range(n):\n",
    "    name = input(\"enter name = \")\n",
    "    price = float(input(\"enter price =\"))\n",
    "    qty = float(input(\"enter qty = \"))\n",
    "    total = price* qty\n",
    "    bill = bill + name+\" \" +str(price) + str(qty) +\" \" + str(total) +\"\\n\"\n",
    "    all_total = all_total + total\n",
    "print(bill)\n",
    "print(all_total)                "
   ]
  },
  {
   "cell_type": "code",
   "execution_count": 18,
   "id": "d963e80c-29e1-4e4f-901f-697b73c9c133",
   "metadata": {
    "tags": []
   },
   "outputs": [
    {
     "name": "stdout",
     "output_type": "stream",
     "text": [
      "h\n",
      "e\n",
      "l\n",
      "l\n",
      "o\n",
      " \n",
      "w\n",
      "o\n",
      "r\n",
      "l\n",
      "d\n"
     ]
    }
   ],
   "source": [
    "a = \"hello world\"\n",
    "for i in a:\n",
    "    print (i)"
   ]
  },
  {
   "cell_type": "code",
   "execution_count": 6,
   "id": "ab601bbf-11c2-46aa-b0fa-505356906f27",
   "metadata": {
    "tags": []
   },
   "outputs": [
    {
     "name": "stdout",
     "output_type": "stream",
     "text": [
      "hello world"
     ]
    }
   ],
   "source": [
    "a= \"hello world\"\n",
    "for i in a:\n",
    "    print(i, end=\"\")"
   ]
  },
  {
   "cell_type": "code",
   "execution_count": 11,
   "id": "ef6cc353-2ca3-4a87-9106-f05deaf5d315",
   "metadata": {
    "tags": []
   },
   "outputs": [
    {
     "name": "stdout",
     "output_type": "stream",
     "text": [
      "hello world iam python"
     ]
    }
   ],
   "source": [
    "a= \"hello world. iam python.\";\n",
    "for i in a :\n",
    "    if i != \".\":\n",
    "        print(i,end=\"\")"
   ]
  },
  {
   "cell_type": "code",
   "execution_count": 40,
   "id": "83cf8674-5fd9-4be3-ac41-3c0dc306cf52",
   "metadata": {
    "tags": []
   },
   "outputs": [
    {
     "name": "stdout",
     "output_type": "stream",
     "text": [
      "hello world iam python"
     ]
    }
   ],
   "source": [
    "a= \"hello world. iam python_\";\n",
    "for i in a :\n",
    "    if i != \".\" and i !=\"_\":\n",
    "        print(i,end=\"\")"
   ]
  },
  {
   "cell_type": "code",
   "execution_count": null,
   "id": "8a13c2c6-ba99-4aa9-ad12-2997b854176c",
   "metadata": {},
   "outputs": [],
   "source": [
    "# control statements\n",
    "#break\n",
    "#continue"
   ]
  },
  {
   "cell_type": "code",
   "execution_count": 26,
   "id": "22958d3e-16a8-401d-9678-34d310e2cbaa",
   "metadata": {
    "tags": []
   },
   "outputs": [
    {
     "name": "stdout",
     "output_type": "stream",
     "text": [
      "0 1 2 3 4 6 7 8 9 "
     ]
    }
   ],
   "source": [
    "for i in range(10):\n",
    "    if i==5:\n",
    "        continue\n",
    "    print(i,end = \" \")"
   ]
  },
  {
   "cell_type": "code",
   "execution_count": 27,
   "id": "8ea67da9-a2bb-4f78-ab55-8467407fa4a0",
   "metadata": {
    "tags": []
   },
   "outputs": [
    {
     "name": "stdout",
     "output_type": "stream",
     "text": [
      "0 1 2 3 4 "
     ]
    }
   ],
   "source": [
    "for i in range(10):\n",
    "    if i==5:\n",
    "        break\n",
    "    print(i,end = \" \")"
   ]
  },
  {
   "cell_type": "code",
   "execution_count": 28,
   "id": "2ecaccb5-c059-41c3-b6ff-8c6ee03c0d59",
   "metadata": {
    "tags": []
   },
   "outputs": [
    {
     "name": "stdout",
     "output_type": "stream",
     "text": [
      "hello world iam python"
     ]
    }
   ],
   "source": [
    "a= \"hello world. iam python.\"\n",
    "for i in a:\n",
    "    if i == \".\":\n",
    "        continue\n",
    "    print(i,end =\"\")"
   ]
  },
  {
   "cell_type": "code",
   "execution_count": 29,
   "id": "0efce6a7-4759-4e78-81f7-7c88e95cb5cb",
   "metadata": {
    "tags": []
   },
   "outputs": [
    {
     "name": "stdout",
     "output_type": "stream",
     "text": [
      "hello world"
     ]
    }
   ],
   "source": [
    "a= \"hello world. iam python.\"\n",
    "for i in a:\n",
    "    if i == \".\":\n",
    "        break\n",
    "    print(i,end =\"\")"
   ]
  },
  {
   "cell_type": "code",
   "execution_count": 41,
   "id": "83b4b4ae-1095-4538-98b5-f6b0f4cd6c99",
   "metadata": {
    "tags": []
   },
   "outputs": [],
   "source": [
    "#wap to detect if the given is prime or composite\n",
    "#prime 2,3,5,7,11,13,17\n",
    "#composite 4,6,8,10,12\n",
    "#use break statement,for else loop\n",
    "#learn and watch for else loop"
   ]
  },
  {
   "cell_type": "code",
   "execution_count": null,
   "id": "65ccecc1-dc54-4703-a84d-7c67e8cbf264",
   "metadata": {},
   "outputs": [],
   "source": [
    "n= int(input(\"enter n=\"))\n"
   ]
  }
 ],
 "metadata": {
  "kernelspec": {
   "display_name": "Python 3 (ipykernel)",
   "language": "python",
   "name": "python3"
  },
  "language_info": {
   "codemirror_mode": {
    "name": "ipython",
    "version": 3
   },
   "file_extension": ".py",
   "mimetype": "text/x-python",
   "name": "python",
   "nbconvert_exporter": "python",
   "pygments_lexer": "ipython3",
   "version": "3.11.5"
  }
 },
 "nbformat": 4,
 "nbformat_minor": 5
}
