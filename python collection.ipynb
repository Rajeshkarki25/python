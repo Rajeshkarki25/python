{
 "cells": [
  {
   "cell_type": "code",
   "execution_count": 1,
   "id": "0756cd2a-7a91-4df6-9c22-f24a9c2176a1",
   "metadata": {
    "tags": []
   },
   "outputs": [],
   "source": [
    "# list\n",
    "# tuple\n",
    "# dict\n",
    "# set"
   ]
  },
  {
   "cell_type": "code",
   "execution_count": 2,
   "id": "c3b6cb7b-0b3b-4abc-821e-1f83038ff766",
   "metadata": {
    "tags": []
   },
   "outputs": [],
   "source": [
    "#list\n",
    "# - indexing\n",
    "# -ordered\n",
    "# -multiple or duplicate data\n",
    "# -mutable"
   ]
  },
  {
   "cell_type": "code",
   "execution_count": 1,
   "id": "4193f4b5-dde4-45f4-a123-86ee62313c52",
   "metadata": {
    "tags": []
   },
   "outputs": [
    {
     "name": "stdout",
     "output_type": "stream",
     "text": [
      "<class 'list'>\n"
     ]
    }
   ],
   "source": [
    "a = []\n",
    "print(type(a))"
   ]
  },
  {
   "cell_type": "code",
   "execution_count": 2,
   "id": "0b1903cd-2188-4c10-9ab9-4e24118689ef",
   "metadata": {
    "tags": []
   },
   "outputs": [
    {
     "name": "stdout",
     "output_type": "stream",
     "text": [
      "[1, 2, 3, 4, 5, 6]\n"
     ]
    }
   ],
   "source": [
    "a = [1,2,3,4,5,6]\n",
    "print(a)"
   ]
  },
  {
   "cell_type": "code",
   "execution_count": 3,
   "id": "a366da21-9ced-4937-b0e9-86fbedc5125a",
   "metadata": {
    "tags": []
   },
   "outputs": [
    {
     "name": "stdout",
     "output_type": "stream",
     "text": [
      "<class 'list'>\n",
      "<class 'list'>\n"
     ]
    }
   ],
   "source": [
    "a = [1,2,3,4,5,6,7,8]\n",
    "b = [\"apple\",\"ball\",\"cat\",\"dog\",\"apple\"]\n",
    "print(type(a))\n",
    "print(type(b))"
   ]
  },
  {
   "cell_type": "code",
   "execution_count": 6,
   "id": "ffd0af2c-166e-442a-90af-5b7f3f0e51e3",
   "metadata": {
    "tags": []
   },
   "outputs": [
    {
     "name": "stdout",
     "output_type": "stream",
     "text": [
      "apple\n",
      "['apple', 'ball', 'cat', 'dog', 'apple']\n",
      "['apple', 'ball', 'cat', 'dog']\n"
     ]
    }
   ],
   "source": [
    "b = [\"apple\",\"ball\",\"cat\",\"dog\",\"apple\"]\n",
    "print(b[0])\n",
    "print(b[0:5])\n",
    "print(b[0:4])"
   ]
  },
  {
   "cell_type": "code",
   "execution_count": 7,
   "id": "87faa307-edb7-409e-98c1-3f8f1b68c11a",
   "metadata": {
    "tags": []
   },
   "outputs": [
    {
     "name": "stdout",
     "output_type": "stream",
     "text": [
      "[1, 2, 3, 4, 5, 6, 7, 8, 9]\n"
     ]
    }
   ],
   "source": [
    "a= [1,2,3,4]\n",
    "b= [5,6,7,8,9]\n",
    "c= a+b\n",
    "print(c)"
   ]
  },
  {
   "cell_type": "code",
   "execution_count": 8,
   "id": "265aec39-40fa-40ea-bfce-57907bd65780",
   "metadata": {
    "tags": []
   },
   "outputs": [
    {
     "name": "stdout",
     "output_type": "stream",
     "text": [
      "[1, 2, 3, 4, 1, 2, 3, 4]\n"
     ]
    }
   ],
   "source": [
    "print(a*2)"
   ]
  },
  {
   "cell_type": "code",
   "execution_count": 3,
   "id": "9fcf0132-aca7-45a9-ba96-fedd16ede2ca",
   "metadata": {
    "tags": []
   },
   "outputs": [
    {
     "name": "stdout",
     "output_type": "stream",
     "text": [
      "['ant', 'ball', 'cat', 'dog']\n"
     ]
    }
   ],
   "source": [
    "a = [\"apple\",\"ball\",\"cat\",\"dog\"]\n",
    "a[0]=\"ant\"\n",
    "print(a)"
   ]
  },
  {
   "cell_type": "code",
   "execution_count": 9,
   "id": "d0386f9e-e75e-45b1-9584-a1f4015c3c64",
   "metadata": {
    "tags": []
   },
   "outputs": [],
   "source": [
    "#append() extend() insert()"
   ]
  },
  {
   "cell_type": "code",
   "execution_count": 4,
   "id": "25e273be-9546-44eb-92ff-eff409284566",
   "metadata": {
    "tags": []
   },
   "outputs": [
    {
     "name": "stdout",
     "output_type": "stream",
     "text": [
      "['apple', 'ball']\n"
     ]
    }
   ],
   "source": [
    "a = []\n",
    "b = \"apple\"\n",
    "a.append(b)\n",
    "a.append(\"ball\")\n",
    "print(a)"
   ]
  },
  {
   "cell_type": "code",
   "execution_count": 10,
   "id": "9c4b9c56-c4f5-4d87-a085-3198720847c2",
   "metadata": {
    "tags": []
   },
   "outputs": [
    {
     "name": "stdin",
     "output_type": "stream",
     "text": [
      "enter n=  4\n",
      "enter x=  3\n"
     ]
    },
    {
     "name": "stdout",
     "output_type": "stream",
     "text": [
      "[3]\n"
     ]
    },
    {
     "name": "stdin",
     "output_type": "stream",
     "text": [
      "enter x=  2\n"
     ]
    },
    {
     "name": "stdout",
     "output_type": "stream",
     "text": [
      "[3, 2]\n"
     ]
    },
    {
     "name": "stdin",
     "output_type": "stream",
     "text": [
      "enter x=  5\n"
     ]
    },
    {
     "name": "stdout",
     "output_type": "stream",
     "text": [
      "[3, 2, 5]\n"
     ]
    },
    {
     "name": "stdin",
     "output_type": "stream",
     "text": [
      "enter x=  2\n"
     ]
    },
    {
     "name": "stdout",
     "output_type": "stream",
     "text": [
      "[3, 2, 5, 2]\n"
     ]
    }
   ],
   "source": [
    "l= []\n",
    "n= int(input('enter n= '))\n",
    "for i in range(n):\n",
    "    x= int(input(\"enter x= \"))\n",
    "    l.append(x)\n",
    "    print(l)"
   ]
  },
  {
   "cell_type": "code",
   "execution_count": 14,
   "id": "0123cae7-1eb7-4c94-a40c-6756a07b9b3f",
   "metadata": {
    "tags": []
   },
   "outputs": [
    {
     "name": "stdout",
     "output_type": "stream",
     "text": [
      "the max value =  5\n",
      "the min value=  2\n",
      "the sum =  12\n",
      "[2, 2, 3, 5]\n",
      "[5, 3, 2, 2]\n"
     ]
    }
   ],
   "source": [
    "print(\"the max value = \",max(l))\n",
    "print(\"the min value= \",min(l))\n",
    "print(\"the sum = \",sum(l))\n",
    "l.sort()\n",
    "print(l)\n",
    "l.reverse()\n",
    "print(l)"
   ]
  },
  {
   "cell_type": "code",
   "execution_count": 15,
   "id": "978417a9-56a7-4831-9d7a-eaa546eba77c",
   "metadata": {
    "tags": []
   },
   "outputs": [
    {
     "name": "stdout",
     "output_type": "stream",
     "text": [
      "['ant', 'apple', 'ball', 'cat', 'dog']\n"
     ]
    }
   ],
   "source": [
    "a = [\"apple\",\"ball\",\"cat\",\"dog\",\"ant\"]\n",
    "a.sort()\n",
    "print(a)"
   ]
  },
  {
   "cell_type": "code",
   "execution_count": 16,
   "id": "d64199ce-31e2-44b3-97eb-d6d7266177ef",
   "metadata": {
    "tags": []
   },
   "outputs": [
    {
     "data": {
      "text/plain": [
       "['apple', 'Cat', 'ball', 'cat', 'dog', 'ant']"
      ]
     },
     "execution_count": 16,
     "metadata": {},
     "output_type": "execute_result"
    }
   ],
   "source": [
    "a = [\"apple\",\"ball\",\"cat\",\"dog\",\"ant\"]\n",
    "a.insert(1,\"Cat\")\n",
    "a"
   ]
  },
  {
   "cell_type": "code",
   "execution_count": 20,
   "id": "c7990e34-9e1a-4122-b6ca-80cd1394e5cf",
   "metadata": {
    "tags": []
   },
   "outputs": [
    {
     "name": "stdout",
     "output_type": "stream",
     "text": [
      "['apple', 'ball', 'cat', 'dog', 'ant', 1, 2, 3]\n"
     ]
    }
   ],
   "source": [
    "a= [\"apple\",\"ball\",\"cat\",\"dog\",\"ant\"]\n",
    "b= [1,2,3]\n",
    "a.extend(b)\n",
    "print(a)"
   ]
  },
  {
   "cell_type": "code",
   "execution_count": 24,
   "id": "3fa60354-107e-4587-9e7f-d3dd24beb597",
   "metadata": {
    "tags": []
   },
   "outputs": [
    {
     "name": "stdout",
     "output_type": "stream",
     "text": [
      "['Apple', 'Ball', 'cat', 'dog', 'ant']\n"
     ]
    }
   ],
   "source": [
    "#update\n",
    "a = [\"apple\",\"ball\",\"cat\",\"dog\",\"ant\"]\n",
    "a[0:2] =[\"Apple\",\"Ball\"]\n",
    "print (a)"
   ]
  },
  {
   "cell_type": "code",
   "execution_count": 25,
   "id": "b2bed966-23a0-4492-896a-acaef842b833",
   "metadata": {
    "tags": []
   },
   "outputs": [
    {
     "name": "stdout",
     "output_type": "stream",
     "text": [
      "['ball', 'cat', 'dog', 'ant']\n"
     ]
    }
   ],
   "source": [
    "# del remove() pop()\n",
    "a = [\"apple\",\"ball\",\"cat\",\"dog\",\"ant\"]\n",
    "del a[0]\n",
    "print(a)"
   ]
  },
  {
   "cell_type": "code",
   "execution_count": 26,
   "id": "6a755a2a-0bab-4c9d-951d-f575effd5eec",
   "metadata": {
    "tags": []
   },
   "outputs": [
    {
     "name": "stdout",
     "output_type": "stream",
     "text": [
      "['ball', 'cat', 'dog', 'ant']\n"
     ]
    }
   ],
   "source": [
    "a = [\"apple\",\"ball\",\"cat\",\"dog\",\"ant\"]\n",
    "a.remove('apple')\n",
    "print (a)"
   ]
  },
  {
   "cell_type": "code",
   "execution_count": 27,
   "id": "9882248f-6453-4bac-b21f-78dc8c898928",
   "metadata": {
    "tags": []
   },
   "outputs": [
    {
     "name": "stdout",
     "output_type": "stream",
     "text": [
      "['ball', 'cat', 'dog', 'apple']\n",
      "['ball', 'cat', 'dog']\n"
     ]
    }
   ],
   "source": [
    "a = [\"apple\",\"ball\",\"cat\",\"dog\",\"apple\"]\n",
    "c= a.count(\"apple\")\n",
    "for i in range (c):\n",
    "    a.remove('apple')\n",
    "    print (a)"
   ]
  },
  {
   "cell_type": "code",
   "execution_count": 28,
   "id": "30885afd-c03d-43d5-95b9-054b938f271a",
   "metadata": {
    "tags": []
   },
   "outputs": [
    {
     "name": "stdout",
     "output_type": "stream",
     "text": [
      "ball\n"
     ]
    }
   ],
   "source": [
    "a = [\"apple\",\"ball\",\"cat\",\"dog\",\"apple\"]\n",
    "b = a.pop(1)\n",
    "print(b)"
   ]
  },
  {
   "cell_type": "code",
   "execution_count": 33,
   "id": "f50c537d-de2b-4590-a896-c0892ab27af6",
   "metadata": {
    "tags": []
   },
   "outputs": [
    {
     "name": "stdout",
     "output_type": "stream",
     "text": [
      "apple\n",
      "ball\n",
      "cat\n",
      "dog\n",
      "apple\n"
     ]
    }
   ],
   "source": [
    "a = [\"apple\",\"ball\",\"cat\",\"dog\",\"apple\"]\n",
    "l = len(a)\n",
    "for i in range(l):\n",
    "    print(a[i])"
   ]
  },
  {
   "cell_type": "code",
   "execution_count": 2,
   "id": "bed4ad16-2f3e-44e1-a1b5-6885e8865be7",
   "metadata": {},
   "outputs": [
    {
     "name": "stdout",
     "output_type": "stream",
     "text": [
      "Yes, 'apple' is in the fruits list\n"
     ]
    }
   ],
   "source": [
    "a = [\"apple\", \"banana\", \"cherry\"]\n",
    "if \"apple\" in a:\n",
    "  print(\"Yes, 'apple' is in the fruits list\") "
   ]
  },
  {
   "cell_type": "code",
   "execution_count": 3,
   "id": "ffdffb56-161d-4f1e-a74e-0c79dbe40f60",
   "metadata": {
    "tags": []
   },
   "outputs": [
    {
     "name": "stdout",
     "output_type": "stream",
     "text": [
      "[[1, 2, 3], [4, 5, 6], [7, 8, 9]]\n"
     ]
    }
   ],
   "source": [
    "# list inside list\n",
    "l= [[1,2,3],[4,5,6],[7,8,9]]\n",
    "print(l)"
   ]
  },
  {
   "cell_type": "code",
   "execution_count": 4,
   "id": "e26f0ed7-1def-4e86-81bb-2c59a1b5e9b5",
   "metadata": {
    "tags": []
   },
   "outputs": [
    {
     "name": "stdout",
     "output_type": "stream",
     "text": [
      "[['ram', 30, 'kathandu'], ['shyam', 32, 'banepa'], ['hari', 34, 'bhaktapur']]\n"
     ]
    }
   ],
   "source": [
    "data = [['ram',30,\"kathandu\"],\n",
    "        ['shyam',32,\"banepa\"],\n",
    "        ['hari',34,\"bhaktapur\"]]\n",
    "print(data)"
   ]
  },
  {
   "cell_type": "code",
   "execution_count": 5,
   "id": "2b347996-8960-4093-97b9-c61be1ba3046",
   "metadata": {
    "tags": []
   },
   "outputs": [
    {
     "data": {
      "text/plain": [
       "['hari', 34, 'bhaktapur']"
      ]
     },
     "execution_count": 5,
     "metadata": {},
     "output_type": "execute_result"
    }
   ],
   "source": [
    "data[2]"
   ]
  },
  {
   "cell_type": "code",
   "execution_count": 6,
   "id": "33ee3020-3b44-4c68-8a51-3eb7842cd4cd",
   "metadata": {
    "tags": []
   },
   "outputs": [
    {
     "data": {
      "text/plain": [
       "['ram', 30, 'kathandu']"
      ]
     },
     "execution_count": 6,
     "metadata": {},
     "output_type": "execute_result"
    }
   ],
   "source": [
    "data[0]"
   ]
  },
  {
   "cell_type": "code",
   "execution_count": 7,
   "id": "b58865dc-4d82-4ef5-a655-991194469033",
   "metadata": {
    "tags": []
   },
   "outputs": [
    {
     "data": {
      "text/plain": [
       "'ram'"
      ]
     },
     "execution_count": 7,
     "metadata": {},
     "output_type": "execute_result"
    }
   ],
   "source": [
    "data[0][0]"
   ]
  },
  {
   "cell_type": "code",
   "execution_count": 9,
   "id": "f77747ab-fc82-462c-83c0-c76c2a6c1e42",
   "metadata": {
    "tags": []
   },
   "outputs": [
    {
     "name": "stdin",
     "output_type": "stream",
     "text": [
      "enter n=  2\n",
      "enter name =  ram\n",
      "enter age =  23\n",
      "enter address =  banepa\n"
     ]
    },
    {
     "name": "stdout",
     "output_type": "stream",
     "text": [
      "[['ram', 23, 'banepa']]\n"
     ]
    },
    {
     "name": "stdin",
     "output_type": "stream",
     "text": [
      "enter name =  shyam\n",
      "enter age =  25\n",
      "enter address =  ktm\n"
     ]
    },
    {
     "name": "stdout",
     "output_type": "stream",
     "text": [
      "[['ram', 23, 'banepa'], ['shyam', 25, 'ktm']]\n"
     ]
    }
   ],
   "source": [
    "info =[]\n",
    "n= int(input(\"enter n= \"))\n",
    "for i in range(n):\n",
    "    name = input(\"enter name = \")\n",
    "    age = int(input(\"enter age = \"))\n",
    "    address = input(\"enter address = \")\n",
    "    info.append([name,age,address])\n",
    "    \n",
    "    print(info)"
   ]
  },
  {
   "cell_type": "code",
   "execution_count": 10,
   "id": "37732e1b-0c4f-4c9d-a6e3-6bdbf4f0a85b",
   "metadata": {
    "tags": []
   },
   "outputs": [
    {
     "name": "stdin",
     "output_type": "stream",
     "text": [
      "enter name =  shyam\n"
     ]
    },
    {
     "name": "stdout",
     "output_type": "stream",
     "text": [
      "['shyam', 32, 'banepa']\n"
     ]
    }
   ],
   "source": [
    "data = [['ram',30,\"kathandu\"],\n",
    "        ['shyam',32,\"banepa\"],\n",
    "        ['hari',34,\"bhaktapur\"]]\n",
    "name = input(\"enter name = \")\n",
    "for i in data:\n",
    "    if name in i:\n",
    "        print(i)"
   ]
  },
  {
   "cell_type": "code",
   "execution_count": 15,
   "id": "93cfd7d7-a43f-403c-b470-72932a0e891d",
   "metadata": {
    "tags": []
   },
   "outputs": [
    {
     "name": "stdin",
     "output_type": "stream",
     "text": [
      "enter n = 2\n",
      "enter name =  ram\n",
      "enter price =  200\n",
      "enter qty =  100\n"
     ]
    },
    {
     "name": "stdout",
     "output_type": "stream",
     "text": [
      "[[0, 'ram', 200.0, 100.0, 48000.0]]\n",
      "48000.0\n"
     ]
    },
    {
     "name": "stdin",
     "output_type": "stream",
     "text": [
      "enter name =  shyam\n",
      "enter price =  100\n",
      "enter qty =  200\n"
     ]
    },
    {
     "name": "stdout",
     "output_type": "stream",
     "text": [
      "[[0, 'ram', 200.0, 100.0, 48000.0], [1, 'shyam', 100.0, 200.0, 24000.0]]\n",
      "72000.0\n"
     ]
    }
   ],
   "source": [
    "bill = []\n",
    "all_total = 0\n",
    "n= int(input(\"enter n =\"))\n",
    "for i in range(n):\n",
    "    name = input(\"enter name = \")\n",
    "    price = float(input(\"enter price = \"))\n",
    "    quantity = float(input(\"enter qty = \"))\n",
    "    total = price * qty\n",
    "    bill.append ([i,name,price,quantity,total])\n",
    "    all_total = all_total + total \n",
    "    print(bill)\n",
    "    print(all_total)"
   ]
  },
  {
   "cell_type": "code",
   "execution_count": 16,
   "id": "7e397fc6-060d-4bee-81e8-3f5ce630f603",
   "metadata": {
    "tags": []
   },
   "outputs": [
    {
     "data": {
      "text/plain": [
       "[['rama', 30, 'kathandu'], ['shyam', 32, 'banepa'], ['hari', 34, 'bhaktapur']]"
      ]
     },
     "execution_count": 16,
     "metadata": {},
     "output_type": "execute_result"
    }
   ],
   "source": [
    "data = [['ram',30,\"kathandu\"],\n",
    "        ['shyam',32,\"banepa\"],\n",
    "        ['hari',34,\"bhaktapur\"]]\n",
    "data[0][0] = \"rama\"\n",
    "data"
   ]
  },
  {
   "cell_type": "code",
   "execution_count": 17,
   "id": "0b42b267-a8be-434f-87ec-8de44d70652f",
   "metadata": {
    "tags": []
   },
   "outputs": [],
   "source": [
    "# wap to create a matrix\n",
    "# r = ?\n",
    "#c = ?\n",
    "#x = ?"
   ]
  },
  {
   "cell_type": "code",
   "execution_count": 20,
   "id": "c06785c4-94cd-45d4-a438-c0b9bc3fde16",
   "metadata": {
    "tags": []
   },
   "outputs": [
    {
     "name": "stdin",
     "output_type": "stream",
     "text": [
      "enter r =  2\n",
      "enter c =  2\n",
      "enter x = 23\n"
     ]
    },
    {
     "name": "stdout",
     "output_type": "stream",
     "text": [
      "[[23]]\n"
     ]
    },
    {
     "name": "stdin",
     "output_type": "stream",
     "text": [
      "enter x = 24\n"
     ]
    },
    {
     "name": "stdout",
     "output_type": "stream",
     "text": [
      "[[23, 24], [23, 24]]\n"
     ]
    },
    {
     "name": "stdin",
     "output_type": "stream",
     "text": [
      "enter x = 25\n"
     ]
    },
    {
     "name": "stdout",
     "output_type": "stream",
     "text": [
      "[[23, 24], [23, 24], [25]]\n"
     ]
    },
    {
     "name": "stdin",
     "output_type": "stream",
     "text": [
      "enter x = 26\n"
     ]
    },
    {
     "name": "stdout",
     "output_type": "stream",
     "text": [
      "[[23, 24], [23, 24], [25, 26], [25, 26]]\n"
     ]
    }
   ],
   "source": [
    "mat = []\n",
    "r= int(input(\"enter r = \"))\n",
    "c= int(input(\"enter c = \"))\n",
    "for i in range (r):\n",
    "    z = []\n",
    "    for j in range(c):\n",
    "        x = int(input(\"enter x =\"))\n",
    "        z.append(x)\n",
    "        mat.append(z)\n",
    "        \n",
    "        print(mat)"
   ]
  },
  {
   "cell_type": "code",
   "execution_count": 5,
   "id": "a68d737a-1127-4e93-96c1-bcc1185a1667",
   "metadata": {},
   "outputs": [],
   "source": [
    "# tuple\n",
    "# sum () min() max() can do\n"
   ]
  },
  {
   "cell_type": "code",
   "execution_count": 6,
   "id": "1148ee1f-5757-4f35-9944-4b19b725bb4a",
   "metadata": {
    "tags": []
   },
   "outputs": [],
   "source": [
    "# no append() insert() extend()\n",
    "#no del remove () pop()\n",
    "#no update()\n",
    "#no sort() reverse() \n",
    "#canot do"
   ]
  },
  {
   "cell_type": "code",
   "execution_count": 7,
   "id": "4cac9bc5-7b82-47ef-b709-b11abcbf50ea",
   "metadata": {
    "tags": []
   },
   "outputs": [
    {
     "data": {
      "text/plain": [
       "tuple"
      ]
     },
     "execution_count": 7,
     "metadata": {},
     "output_type": "execute_result"
    }
   ],
   "source": [
    "a = (1,)\n",
    "type(a)"
   ]
  },
  {
   "cell_type": "code",
   "execution_count": 8,
   "id": "5e894104-c084-45ee-95ed-6cf3b73c5d78",
   "metadata": {
    "tags": []
   },
   "outputs": [
    {
     "name": "stdout",
     "output_type": "stream",
     "text": [
      "(1, 2, 3, 4, 5, 6, 7)\n"
     ]
    }
   ],
   "source": [
    "a= 1,2,3,4,5,6,7\n",
    "print(a)"
   ]
  },
  {
   "cell_type": "code",
   "execution_count": 9,
   "id": "9fca16b2-df55-4d79-94bc-db7b062a28d5",
   "metadata": {
    "tags": []
   },
   "outputs": [
    {
     "name": "stdout",
     "output_type": "stream",
     "text": [
      "<class 'tuple'>\n",
      "<class 'tuple'>\n"
     ]
    }
   ],
   "source": [
    "t= (1,2,3,4,5,6,7)\n",
    "k =(\"apple\",\"ball\",\"cat\",\"dog\")\n",
    "print(type(t))\n",
    "print(type(k))"
   ]
  },
  {
   "cell_type": "code",
   "execution_count": 10,
   "id": "2564f79f-8d84-43a1-9e44-e372201f2d39",
   "metadata": {
    "tags": []
   },
   "outputs": [
    {
     "name": "stdout",
     "output_type": "stream",
     "text": [
      "apple\n",
      "1\n"
     ]
    }
   ],
   "source": [
    "print(k[0])\n",
    "print(t[0])"
   ]
  },
  {
   "cell_type": "code",
   "execution_count": 11,
   "id": "ed73ea6a-c569-41f7-90bc-0d8c25fb7718",
   "metadata": {
    "tags": []
   },
   "outputs": [
    {
     "name": "stdout",
     "output_type": "stream",
     "text": [
      "(1, 2, 3, 4, 5, 6, 7, 8, 9)\n"
     ]
    }
   ],
   "source": [
    "t= (1,2,3,4,5,6,7)\n",
    "j=(8,9)\n",
    "print(t+j)"
   ]
  },
  {
   "cell_type": "code",
   "execution_count": 12,
   "id": "374ea227-eaff-4e4e-96f0-1684eaf82c80",
   "metadata": {
    "tags": []
   },
   "outputs": [
    {
     "name": "stdout",
     "output_type": "stream",
     "text": [
      "(1, 2, 3, 4, 1, 2, 3, 4)\n"
     ]
    }
   ],
   "source": [
    "t= (1,2,3,4)\n",
    "print(t*2)"
   ]
  },
  {
   "cell_type": "code",
   "execution_count": 13,
   "id": "6f729b6c-9903-4182-bea5-d87949fff963",
   "metadata": {
    "tags": []
   },
   "outputs": [
    {
     "name": "stdout",
     "output_type": "stream",
     "text": [
      "1\n",
      "(1, 2, 3, 4)\n"
     ]
    }
   ],
   "source": [
    "a = (1,2,3,4,5,6)\n",
    "print(a[0])\n",
    "print(a[0:4])"
   ]
  },
  {
   "cell_type": "code",
   "execution_count": 14,
   "id": "96a2e544-907b-49c2-b04e-3e6f6bd7711d",
   "metadata": {
    "tags": []
   },
   "outputs": [
    {
     "name": "stdout",
     "output_type": "stream",
     "text": [
      "[1, 2, 3, 4, 5]\n"
     ]
    }
   ],
   "source": [
    "a = (1,2,3,4,5)\n",
    "b = list(a)\n",
    "print(b)"
   ]
  },
  {
   "cell_type": "code",
   "execution_count": 15,
   "id": "6e865f41-8f31-48cb-98f4-a7cbad63c060",
   "metadata": {
    "tags": []
   },
   "outputs": [
    {
     "name": "stdout",
     "output_type": "stream",
     "text": [
      "(2, 3, 4, 5)\n"
     ]
    }
   ],
   "source": [
    "a = (1,2,3,4,5)\n",
    "b = list(a)\n",
    "del b[0]\n",
    "a = tuple(b)\n",
    "print(a)"
   ]
  },
  {
   "cell_type": "code",
   "execution_count": 16,
   "id": "3632edd6-e677-4e6e-83de-ffdf903f341c",
   "metadata": {
    "tags": []
   },
   "outputs": [
    {
     "name": "stdout",
     "output_type": "stream",
     "text": [
      "['apple', 'ball', 'cat', 'dog']\n"
     ]
    }
   ],
   "source": [
    "a = (\"apple\",\"ball\",\"cat\",\"dog\")\n",
    "print(sorted(a))"
   ]
  },
  {
   "cell_type": "code",
   "execution_count": 17,
   "id": "90ad043f-8964-480d-82c1-98095354a5a2",
   "metadata": {
    "tags": []
   },
   "outputs": [
    {
     "name": "stdin",
     "output_type": "stream",
     "text": [
      "enter n =  2\n",
      "enter x = 3\n"
     ]
    },
    {
     "name": "stdout",
     "output_type": "stream",
     "text": [
      "(3,)\n"
     ]
    },
    {
     "name": "stdin",
     "output_type": "stream",
     "text": [
      "enter x = 4\n"
     ]
    },
    {
     "name": "stdout",
     "output_type": "stream",
     "text": [
      "(3, 4)\n"
     ]
    }
   ],
   "source": [
    "t= ()\n",
    "#t = tuple()\n",
    "n= int(input(\"enter n = \"))\n",
    "for i in range(n):\n",
    "    x= int(input(\"enter x =\"))\n",
    "    t= t + (x,)\n",
    "    print(t)"
   ]
  },
  {
   "cell_type": "code",
   "execution_count": null,
   "id": "7c1dd0c0-1e0b-43d0-842f-34ffa2a0532c",
   "metadata": {},
   "outputs": [],
   "source": [
    "#wap to create the following tuple inside tuple\n",
    "#data = (('ram',30,\"kathandu\")\n",
    "       # ('shyam',32,\"banepa\"),\n",
    "       # ('hari',34,\"bhaktapur\"))"
   ]
  }
 ],
 "metadata": {
  "kernelspec": {
   "display_name": "Python 3 (ipykernel)",
   "language": "python",
   "name": "python3"
  },
  "language_info": {
   "codemirror_mode": {
    "name": "ipython",
    "version": 3
   },
   "file_extension": ".py",
   "mimetype": "text/x-python",
   "name": "python",
   "nbconvert_exporter": "python",
   "pygments_lexer": "ipython3",
   "version": "3.11.5"
  }
 },
 "nbformat": 4,
 "nbformat_minor": 5
}
